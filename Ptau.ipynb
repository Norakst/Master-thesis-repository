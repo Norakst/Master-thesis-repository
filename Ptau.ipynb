{
 "cells": [
  {
   "cell_type": "code",
   "execution_count": null,
   "metadata": {},
   "outputs": [],
   "source": [
    "import pandas as pd \n",
    "import numpy as np \n",
    "import networkx as nx \n",
    "import matplotlib.pyplot as plt\n",
    "%matplotlib inline\n",
    "import seaborn as sns\n",
    "import altair as alt\n",
    "import nx_altair as nxa\n",
    "from sklearn.preprocessing import MinMaxScaler\n",
    "from sklearn.preprocessing import StandardScaler\n",
    "#import snf\n",
    "#from sklearn.metrics.pairwise import nan_euclidean_distances\n",
    "from sklearn.metrics.pairwise import cosine_similarity\n",
    "from scipy.spatial.distance import pdist, squareform\n",
    "sns.set_style(\"darkgrid\")\n"
   ]
  },
  {
   "cell_type": "markdown",
   "metadata": {},
   "source": [
    "### Functions:"
   ]
  },
  {
   "cell_type": "code",
   "execution_count": null,
   "metadata": {},
   "outputs": [],
   "source": [
    "def sort_df_IDs(df_, ID_list):\n",
    "\n",
    "\n",
    "    df = df_.copy()\n",
    "    for id in ID_list:\n",
    "\n",
    "        sorted_df = df[df['participant_id'].isin(ID_list)].sort_values(by=['participant_id'], key=lambda x: x.map({v: i for i, v in enumerate(ID_list)}))\n",
    "        sorted_df = sorted_df.reset_index(drop=True)\n",
    "        \n",
    "    return sorted_df\n"
   ]
  },
  {
   "cell_type": "code",
   "execution_count": null,
   "metadata": {},
   "outputs": [],
   "source": [
    "def remove_outliers(df_, nr_std):\n",
    "    \n",
    "    df = df_.copy()\n",
    "\n",
    "    ptau_conc = df['ptau217']\n",
    "    mean_conc = np.mean(ptau_conc)\n",
    "    std = np.std(ptau_conc)\n",
    "\n",
    "    threshold_upper = mean_conc + nr_std * std #defining thresholds\n",
    "    threshold_lower = mean_conc - nr_std * std\n",
    "\n",
    "    filtered_df = df[(df['ptau217'] > threshold_lower) & (df['ptau217'] < threshold_upper)]  # Filter the df based on threshold:\n",
    "    \n",
    "    outliers = df[(df['ptau217'] <= threshold_lower) | (df['ptau217'] >= threshold_upper)]\n",
    "    print(len(outliers))\n",
    "    outliers_dict = dict(zip(outliers['participant_id'], outliers['ptau217']))\n",
    "\n",
    "    filtered_df = filtered_df.reset_index(drop=True)\n",
    "\n",
    "    print(f'lower: {threshold_lower}, upper: {threshold_upper}')\n",
    "\n",
    "    return filtered_df, outliers_dict"
   ]
  },
  {
   "cell_type": "code",
   "execution_count": null,
   "metadata": {},
   "outputs": [],
   "source": [
    "def scale_df(df_, cols, sc):\n",
    "    '''\n",
    "    Takes in a dataframe (can contain participant and session id), a list of variables for column names, name of scaler \n",
    "    scales df with standardscaling or minmax\n",
    "    assigns new df with given columns\n",
    "    returns scaled df with participant and session id\n",
    "\n",
    "    '''\n",
    "\n",
    "    df = df_.copy()\n",
    "\n",
    "    if sc == 'standard':\n",
    "        scaler = StandardScaler()\n",
    "    elif sc == 'minmax':\n",
    "        scaler = MinMaxScaler()\n",
    "    df_sc = scaler.fit_transform(df[cols])\n",
    "    df_sc = pd.DataFrame(df_sc, columns = cols)\n",
    "    df[cols] = df_sc \n",
    "\n",
    "    return df"
   ]
  },
  {
   "cell_type": "code",
   "execution_count": null,
   "metadata": {},
   "outputs": [],
   "source": [
    "def makeAdjMatrix_pTau(df, sim_metric, save_adjM): #'Eucl', 'Cos', 'Pears'\n",
    "\n",
    "    n = len(df) # find number of rows (number of participant sessions)\n",
    "    adj_matrix = np.eye(n) # create adjacency matrix with 1s along diagonal\n",
    "\n",
    "    if sim_metric == 'Eucl':\n",
    "        distances = pdist(df.values, metric='euclidean') # Compute pairwise Euclidean distances between participants in a condensed array\n",
    "        sq_distances = squareform(distances) # Convert the condensed distance matrix into a square distance matrix\n",
    "        \n",
    "        # Fill the upper triangle of the similarity matrix with similarities:\n",
    "        for i in range(n):\n",
    "            for j in range(i+1, n):\n",
    "                adj_matrix[i, j] = 1 / (1 + sq_distances[i, j])\n",
    "\n",
    "    elif sim_metric == 'Cos':\n",
    "        similarities = cosine_similarity(df.values)\n",
    "\n",
    "        # Fill the upper triangle of the similarity matrix with similarities:\n",
    "        for i in range(n):\n",
    "            for j in range(i+1, n):\n",
    "                adj_matrix[i, j] = similarities[i, j]\n",
    "\n",
    "    elif sim_metric == 'Pears':\n",
    "        df_trans = df.copy().transpose() # Transpose the df so that participants are along the columns (necessary for the correlation function)\n",
    "        sim_matrix_p = df_trans.corr() # Compute the similarity matrix with pearson correlation\n",
    "        adj_matrix = np.triu(sim_matrix_p.values) # Extract the upper triangular part of the array (including the diagonal)\n",
    "\n",
    "    if save_adjM:\n",
    "        np.savetxt(f'adjM_pTau_{sim_metric}.csv', X=adj_matrix, delimiter=',')\n",
    "\n",
    "    return adj_matrix"
   ]
  },
  {
   "cell_type": "code",
   "execution_count": null,
   "metadata": {},
   "outputs": [],
   "source": [
    "def scale_adjMatrix(adjM, sc):\n",
    "\n",
    "    if sc == 'standard':\n",
    "        scaler = StandardScaler()\n",
    "    elif sc == 'minmax':\n",
    "        scaler = MinMaxScaler()\n",
    "\n",
    "    mask = np.triu(np.ones_like(adjM, dtype=bool), k=1) # mask the lower triangle and diagonal for scaling\n",
    "    adjM_sc = adjM.copy()\n",
    "    adjM_sc[mask] = scaler.fit_transform(adjM[mask].reshape(-1, 1)).flatten()\n",
    "\n",
    "\n",
    "    return adjM_sc"
   ]
  },
  {
   "cell_type": "code",
   "execution_count": null,
   "metadata": {},
   "outputs": [],
   "source": [
    "def create_PSN(adj, phi, s, title): \n",
    "    '''\n",
    "    Takes in adjacency matrix adj, cutoff phi and seed s\n",
    "    Creates and draws network graph with spring layout\n",
    "    \n",
    "    returns network and similarity list\n",
    "    '''\n",
    "    \n",
    "    G = nx.from_numpy_array(adj)\n",
    "    PSN = nx.Graph()\n",
    "    PSN.add_nodes_from(G.nodes)\n",
    "\n",
    "    similarities = []\n",
    "    n = len(G.nodes)\n",
    "\n",
    "    for i in range(n):\n",
    "        for j in range(i+1,n):\n",
    "            sim = adj[i,j]\n",
    "            similarities.append(sim)\n",
    "            if sim > phi:\n",
    "                PSN.add_edge(i, j, weight = sim)\n",
    "\n",
    "\n",
    "    plt.figure(figsize=(12,12))\n",
    "    plt.title(title + ', phi= ' + str(phi))\n",
    "    pos = nx.spring_layout(PSN, seed = s, k = 1/2)\n",
    "    nx.draw_networkx_nodes(PSN, pos=pos, node_size=80, alpha=0.7, node_color='#2d6b87')\n",
    "    nx.draw_networkx_edges(PSN, pos=pos, width=2, alpha=1/10)\n",
    "    #nx.draw(PSN, pos = pos, node_size = 80, alpha=0.7) # edgecolor='grey'\n",
    "\n",
    "    plt.grid(False)\n",
    "    plt.gca().set_facecolor('white')\n",
    "\n",
    "    plt.savefig('ptau_psn.svg')\n",
    "    \n",
    "    return PSN, similarities"
   ]
  },
  {
   "cell_type": "code",
   "execution_count": null,
   "metadata": {},
   "outputs": [],
   "source": [
    "def plot_similarities(sim, title):\n",
    "    \n",
    "    plt.figure(figsize=(13,8))\n",
    "    plt.title(title)\n",
    "    plt.xlabel('Similarities')\n",
    "\n",
    "    sns.set(font_scale=1.2) \n",
    "    sns.histplot(sim, bins=100)\n",
    "\n",
    "    plt.axvline(np.mean(sim), color='k', linestyle='dashed', linewidth=1)\n",
    "\n",
    "    sorted_sim = sorted(sim, reverse=True)\n",
    "    top_10_index = int(0.1 *len(sorted_sim))\n",
    "    top_10_cutoff = sorted_sim[top_10_index]\n",
    "\n",
    "    plt.axvline(top_10_cutoff, color = 'k', linestyle='dashed', linewidth=2)\n",
    "\n",
    "    plt.show()\n",
    "\n",
    "    print('mean: ' + str(np.nanmean(sim)))\n",
    "    print('Top 10 percent similarities: ' + str(top_10_cutoff))"
   ]
  },
  {
   "cell_type": "code",
   "execution_count": null,
   "metadata": {},
   "outputs": [],
   "source": [
    "matched_IDs = []"
   ]
  },
  {
   "cell_type": "markdown",
   "metadata": {},
   "source": [
    "### Pre-processing:"
   ]
  },
  {
   "cell_type": "code",
   "execution_count": null,
   "metadata": {},
   "outputs": [],
   "source": [
    "df = pd.read_excel('scd_crf_apoe_ptau217_data_medsci_PTAU181.xlsx', sheet_name='Sheet2')\n",
    "relevant_cols= ['participant_id', 'ptau217']\n",
    "df_ptau= df[relevant_cols]\n",
    "df_ptau"
   ]
  },
  {
   "cell_type": "code",
   "execution_count": null,
   "metadata": {},
   "outputs": [],
   "source": [
    "plt.figure(figsize=(8,8))\n",
    "#sns.boxplot(df_ptau['ptau217'])\n",
    "sns.distplot(df_ptau['ptau217'])"
   ]
  },
  {
   "cell_type": "code",
   "execution_count": null,
   "metadata": {},
   "outputs": [],
   "source": [
    "df_ptau = sort_df_IDs(df_ptau, matched_IDs)\n",
    "df_ptau"
   ]
  },
  {
   "cell_type": "code",
   "execution_count": null,
   "metadata": {},
   "outputs": [],
   "source": [
    "df_ptau.isna().sum()"
   ]
  },
  {
   "cell_type": "code",
   "execution_count": null,
   "metadata": {},
   "outputs": [],
   "source": [
    "df_ptau = df_ptau.dropna()\n",
    "df_ptau.reset_index(drop=True)\n",
    "df_ptau"
   ]
  },
  {
   "cell_type": "markdown",
   "metadata": {},
   "source": [
    "#### filtering outliers:\n",
    "one ID (conc 78.10975..) removed from matched_ID list. "
   ]
  },
  {
   "cell_type": "code",
   "execution_count": null,
   "metadata": {},
   "outputs": [],
   "source": [
    "filtered_df, outliers = remove_outliers(df_ptau, 5)"
   ]
  },
  {
   "cell_type": "markdown",
   "metadata": {},
   "source": [
    "### PSN implementation"
   ]
  },
  {
   "cell_type": "code",
   "execution_count": null,
   "metadata": {},
   "outputs": [],
   "source": [
    "df_ptau_sc = scale_df(df_ptau.copy()[relevant_cols], relevant_cols[1:], 'minmax')"
   ]
  },
  {
   "cell_type": "code",
   "execution_count": null,
   "metadata": {},
   "outputs": [],
   "source": [
    "df_ptau_sc"
   ]
  },
  {
   "cell_type": "code",
   "execution_count": null,
   "metadata": {},
   "outputs": [],
   "source": [
    "adjMatrix = makeAdjMatrix_pTau(df_ptau[['ptau217']], 'Eucl', False) # df, sim_metric, save_adjM"
   ]
  },
  {
   "cell_type": "code",
   "execution_count": null,
   "metadata": {},
   "outputs": [],
   "source": [
    "adjMatrix.shape"
   ]
  },
  {
   "cell_type": "code",
   "execution_count": null,
   "metadata": {},
   "outputs": [],
   "source": [
    "adjMatrix_sc = scale_adjMatrix(adjMatrix, 'minmax')"
   ]
  },
  {
   "cell_type": "code",
   "execution_count": null,
   "metadata": {},
   "outputs": [],
   "source": [
    "tau_PSN, tau_sims = create_PSN(adjMatrix, 0.719, 100, 'ptau, nonscaled') # (adj, phi, s, title 0.0036759127940981127"
   ]
  },
  {
   "cell_type": "code",
   "execution_count": null,
   "metadata": {},
   "outputs": [],
   "source": [
    "plot_similarities(tau_sims, 'similarities tau')"
   ]
  },
  {
   "cell_type": "markdown",
   "metadata": {},
   "source": [
    "### Plotting of variables to find correlation:\n"
   ]
  },
  {
   "cell_type": "code",
   "execution_count": null,
   "metadata": {},
   "outputs": [],
   "source": []
  },
  {
   "cell_type": "code",
   "execution_count": null,
   "metadata": {},
   "outputs": [],
   "source": [
    "plt.figure(figsize=(10,8))\n",
    "sns.displot(df_ptau['ptau217'], kde=True)\n",
    "n = len(df_ptau)\n",
    "plt.title(f'pTau concentration distribution (n= {n})')\n",
    "plt.xlabel('pTau concentration')\n",
    "plt.savefig('ptau217_dist_filtered.svg')\n",
    "plt.show()"
   ]
  },
  {
   "cell_type": "code",
   "execution_count": null,
   "metadata": {},
   "outputs": [],
   "source": [
    "filtered_df.shape"
   ]
  },
  {
   "cell_type": "code",
   "execution_count": null,
   "metadata": {},
   "outputs": [],
   "source": [
    "plt.figure(figsize=(10,8))\n",
    "sns.distplot(df_ptau['ptau217'])\n",
    "plt.title('pTau concentration distribution')\n",
    "#plt.savefig('ptau217_dist_filtered.svg')\n",
    "plt.show()"
   ]
  },
  {
   "cell_type": "code",
   "execution_count": null,
   "metadata": {},
   "outputs": [],
   "source": []
  }
 ],
 "metadata": {
  "kernelspec": {
   "display_name": "base",
   "language": "python",
   "name": "python3"
  },
  "language_info": {
   "codemirror_mode": {
    "name": "ipython",
    "version": 3
   },
   "file_extension": ".py",
   "mimetype": "text/x-python",
   "name": "python",
   "nbconvert_exporter": "python",
   "pygments_lexer": "ipython3",
   "version": "3.8.5"
  },
  "orig_nbformat": 4
 },
 "nbformat": 4,
 "nbformat_minor": 2
}
