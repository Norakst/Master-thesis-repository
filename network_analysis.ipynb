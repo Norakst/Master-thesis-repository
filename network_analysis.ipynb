{
 "cells": [
  {
   "cell_type": "code",
   "execution_count": null,
   "metadata": {},
   "outputs": [],
   "source": [
    "import pandas as pd\n",
    "import numpy as np\n",
    "import seaborn as sns\n",
    "import networkx as nx\n",
    "import matplotlib.pyplot as plt\n",
    "from sklearn.preprocessing import MinMaxScaler\n",
    "from sklearn.preprocessing import StandardScaler\n",
    "#sns.set_style('darkgrid')\n",
    "sns.set_style('whitegrid')\n",
    "sns.axes_style(\"whitegrid\")\n",
    "from networkx.algorithms import community\n",
    "import itertools\n",
    "from networkx.algorithms.community.quality import modularity\n",
    "from sklearn.metrics import jaccard_score\n",
    "import matplotlib.colors as mcolors\n"
   ]
  },
  {
   "cell_type": "markdown",
   "metadata": {},
   "source": [
    "## Functions:"
   ]
  },
  {
   "cell_type": "code",
   "execution_count": null,
   "metadata": {},
   "outputs": [],
   "source": [
    "def scale_adjMatrix(adjM, sc):\n",
    "    \n",
    "    if sc == 'standard':\n",
    "        scaler = StandardScaler()\n",
    "    elif sc == 'minmax':\n",
    "        scaler = MinMaxScaler()\n",
    "        \n",
    "    mask = np.triu(np.ones_like(adjM, dtype=bool), k=1) # mask the lower triangle and diagonal for scaling\n",
    "    adjM_sc = adjM.copy()\n",
    "    adjM_sc[mask] = scaler.fit_transform(adjM[mask].reshape(-1, 1)).flatten()\n",
    "    \n",
    "    return adjM_sc"
   ]
  },
  {
   "cell_type": "code",
   "execution_count": null,
   "metadata": {},
   "outputs": [],
   "source": [
    "def create_PSN(adjM, nodelist, phi, s, title, fused, savefig):\n",
    "    \n",
    "    G = nx.from_numpy_array(adjM)\n",
    "    PSN = nx.Graph()\n",
    "    PSN.add_nodes_from(G.nodes)\n",
    "    \n",
    "    similarities = []\n",
    "    n = len(G.nodes)\n",
    "    \n",
    "    for i in range(n):\n",
    "        for j in range(i+1,n):\n",
    "            sim = adjM[i,j]\n",
    "            similarities.append(sim)\n",
    "            if sim > phi:\n",
    "                PSN.add_edge(i, j, weight = sim)\n",
    "                \n",
    "    plt.figure(figsize=(12,12))\n",
    "    plt.title(title + ', cutoff: ' + str(phi) + ', n='+ str(n))\n",
    "    \n",
    "    pos = nx.spring_layout(PSN, seed = s, k=1/2) \n",
    "    \n",
    "    if nodelist:\n",
    "        node_cols = {'E2E2':'#177245', 'E2E3':'#6aa84f','E3E3':'#0b5394', 'E2E4': '#f2a85a', 'E4E4':'#cc0000', 'E3E4':'#800080'}\n",
    "       \n",
    "        node_mapping = [node_cols[gtype] for gtype in nodelist]\n",
    "        rgb_colors = [mcolors.hex2color(color) for color in node_mapping]\n",
    "        \n",
    "        nx.draw_networkx_nodes(PSN, pos=pos, node_size = 80, node_color=rgb_colors, alpha=0.7)\n",
    "    \n",
    "    else:\n",
    "        if fused:\n",
    "            color = '#38761d'\n",
    "        else:\n",
    "            color = '#2d6b87'#257ca3\n",
    "    \n",
    "    \n",
    "    nx.draw_networkx_nodes(PSN, pos=pos, node_size=80, alpha=0.7, node_color=color) \n",
    "    nx.draw_networkx_edges(PSN, pos=pos, width=2, alpha= 1/10)\n",
    "    sns.set_style('white')\n",
    "    plt.grid(False)\n",
    "    plt.gca().set_facecolor('white')\n",
    "    \n",
    "    if savefig:\n",
    "        plt.savefig(f'{title}.svg')\n",
    "    \n",
    "    return PSN, similarities"
   ]
  },
  {
   "cell_type": "code",
   "execution_count": null,
   "metadata": {},
   "outputs": [],
   "source": [
    "def plot_similarities(sim, title, fused, savefig):\n",
    "    \n",
    "    plt.figure(figsize=(8,8))\n",
    "    plt.title(title)\n",
    "    plt.xlabel('Similarities')\n",
    "    sns.set(font_scale=1.2)\n",
    "    sns.axes_style(\"whitegrid\")\n",
    "    sns.set_style('whitegrid')\n",
    "    plt.grid(False)\n",
    "    plt.gca().set_facecolor('white')\n",
    "    \n",
    "    if fused: # set green color for fused network and blue for unimodal\n",
    "        col='#668a56'\n",
    "    else:\n",
    "        col='#668d9f'  \n",
    "    \n",
    "    sns.histplot(sim, bins=100, color=col)#668d9f #38761d #79ba5c\n",
    "\n",
    "    #plt.axvline(np.mean(sim), color='k', linestyle='dashed', linewidth=1)\n",
    "    \n",
    "    sorted_sim = sorted(sim, reverse=True)\n",
    "    top_10_ind = int(0.1 * len(sorted_sim))\n",
    "    top_10_cutoff = sorted_sim[top_10_ind]\n",
    "    \n",
    "    plt.axvline(top_10_cutoff, color='k', linestyle='dashed', linewidth=2)\n",
    "    plt.text(top_10_cutoff+0.01, 500, str(round(top_10_cutoff,3)), va='bottom', ha='left')\n",
    "    \n",
    "    if savefig:\n",
    "        plt.savefig(title+'.svg')\n",
    "        \n",
    "    plt.show()\n",
    "    \n",
    "    \n",
    "    \n",
    "    print('mean: ' + str(np.nanmean(sim)))\n",
    "    print('Top 10 percent similarities: ' + str(top_10_cutoff))\n",
    "    "
   ]
  },
  {
   "cell_type": "code",
   "execution_count": null,
   "metadata": {},
   "outputs": [],
   "source": [
    "def fuse_PSNs(adjMatrices):\n",
    "    \n",
    "    dimentions= []\n",
    "    \n",
    "    for adjM in adjMatrices:\n",
    "        dimentions.append(adjM.shape)\n",
    "    \n",
    "    if len(set(dimentions)) == 1: #checks that the dimentions are the same for all adjacency matrices to be fused\n",
    "        \n",
    "        fused_matrix = np.mean(adjMatrices, axis = 0) #computes the average for every entry in the matrices\n",
    "    \n",
    "    return fused_matrix"
   ]
  },
  {
   "cell_type": "code",
   "execution_count": null,
   "metadata": {},
   "outputs": [],
   "source": [
    "s = 100"
   ]
  },
  {
   "cell_type": "markdown",
   "metadata": {},
   "source": [
    "## PSN implementation:"
   ]
  },
  {
   "cell_type": "code",
   "execution_count": null,
   "metadata": {},
   "outputs": [],
   "source": [
    "adjM_APOE = np.loadtxt('Files_from_tsd/adjMs/adjM_APOE_Jacc.csv', delimiter=',')\n",
    "adjM_APOE_sc = scale_adjMatrix(adjM_APOE, 'standard')"
   ]
  },
  {
   "cell_type": "code",
   "execution_count": null,
   "metadata": {},
   "outputs": [],
   "source": [
    "adjM_eucl = np.loadtxt('Files_from_tsd/adjMs/adjM_V1_Eucl.csv', delimiter=',')\n",
    "adjM_eucl_sc = scale_adjMatrix(adjM_eucl, 'standard')"
   ]
  },
  {
   "cell_type": "code",
   "execution_count": null,
   "metadata": {},
   "outputs": [],
   "source": [
    "adjM_cos = np.loadtxt('Files_from_tsd/adjMs/adjM_V1_Cos.csv', delimiter=',')\n",
    "adjM_cos_sc = scale_adjMatrix(adjM_cos, 'standard')"
   ]
  },
  {
   "cell_type": "code",
   "execution_count": null,
   "metadata": {},
   "outputs": [],
   "source": [
    "adjM_pears = np.loadtxt('Files_from_tsd/adjMs/adjM_V1_Pears.csv', delimiter=',')\n",
    "adjM_pears_sc = scale_adjMatrix(adjM_pears, 'standard')"
   ]
  },
  {
   "cell_type": "code",
   "execution_count": null,
   "metadata": {},
   "outputs": [],
   "source": [
    "adjM_clin = np.loadtxt('Files_from_tsd/adjMs/adjM_clinical_Cos.csv', delimiter=',')\n",
    "adjM_clin_sc = scale_adjMatrix(adjM_clin, 'standard')"
   ]
  },
  {
   "cell_type": "code",
   "execution_count": null,
   "metadata": {},
   "outputs": [],
   "source": [
    "adjM_ptau = np.loadtxt('Files_from_tsd/adjMs/adjM_pTau_Eucl.csv', delimiter=',')\n",
    "adjM_ptau_sc = scale_adjMatrix(adjM_ptau, 'standard')"
   ]
  },
  {
   "cell_type": "code",
   "execution_count": null,
   "metadata": {},
   "outputs": [],
   "source": [
    "adjM_ptau.shape"
   ]
  },
  {
   "cell_type": "markdown",
   "metadata": {},
   "source": [
    "### Fuse all:"
   ]
  },
  {
   "cell_type": "code",
   "execution_count": null,
   "metadata": {},
   "outputs": [],
   "source": [
    "fusedM_APOE_cantab_cos_clinical_ptau = fuse_PSNs([adjM_APOE_sc, adjM_cos_sc, adjM_clin_sc, adjM_ptau_sc])"
   ]
  },
  {
   "cell_type": "code",
   "execution_count": null,
   "metadata": {},
   "outputs": [],
   "source": [
    "fusedM_APOE_cantab_cos_clinical_ptau = scale_adjMatrix(fusedM_APOE_cantab_cos_clinical_ptau, 'minmax')"
   ]
  },
  {
   "cell_type": "code",
   "execution_count": null,
   "metadata": {},
   "outputs": [],
   "source": [
    "fusedM_APOE_cantab_cos_clinical_ptau.shape"
   ]
  },
  {
   "cell_type": "code",
   "execution_count": null,
   "metadata": {},
   "outputs": [],
   "source": [
    "fusedPSN_all, sims_all = create_PSN(fusedM_APOE_cantab_cos_clinical_ptau, False, 0.632, s, 'Fused all, cutoff 0.632', True, False)"
   ]
  },
  {
   "cell_type": "code",
   "execution_count": null,
   "metadata": {},
   "outputs": [],
   "source": [
    "plot_similarities(sims_all, 'similarities', True, False)"
   ]
  },
  {
   "cell_type": "markdown",
   "metadata": {},
   "source": [
    "## Community detection"
   ]
  },
  {
   "cell_type": "markdown",
   "metadata": {},
   "source": [
    "### Louvain communities:"
   ]
  },
  {
   "cell_type": "code",
   "execution_count": null,
   "metadata": {},
   "outputs": [],
   "source": [
    "def over_k_louvain(G, k): #finds comnmunities over k in size\n",
    "    \n",
    "    all_nodes = list(G.nodes)\n",
    "    \n",
    "    louv_comm = nx.community.louvain_communities(G)\n",
    "    \n",
    "    comm_overk = [comm for comm in louv_comm if len(comm) >= k]\n",
    "    \n",
    "    nodes_in_comm = [node for comm in comm_overk for node in comm]\n",
    "    \n",
    "    nodes_outside_comm = [node for node in all_nodes if node not in nodes_in_comm]\n",
    "    \n",
    "    return comm_overk, nodes_outside_comm"
   ]
  },
  {
   "cell_type": "markdown",
   "metadata": {},
   "source": [
    "#### Fused all:"
   ]
  },
  {
   "cell_type": "code",
   "execution_count": null,
   "metadata": {},
   "outputs": [],
   "source": [
    "over5_fused_all, rest_fused_all = over_k_louvain(fusedPSN_all, 5)"
   ]
  },
  {
   "cell_type": "code",
   "execution_count": null,
   "metadata": {},
   "outputs": [],
   "source": [
    "for i, comm in enumerate(over5_fused_all):\n",
    "    if len(comm) < 20:\n",
    "        over5_fused_all.remove(comm)\n",
    "    print(len(comm), i)"
   ]
  },
  {
   "cell_type": "code",
   "execution_count": null,
   "metadata": {},
   "outputs": [],
   "source": [
    "len(over5_fused_all)"
   ]
  },
  {
   "cell_type": "markdown",
   "metadata": {},
   "source": [
    "### Plot and mark communities:"
   ]
  },
  {
   "cell_type": "code",
   "execution_count": null,
   "metadata": {},
   "outputs": [],
   "source": [
    "palette = sns.color_palette('muted', 8)"
   ]
  },
  {
   "cell_type": "code",
   "execution_count": null,
   "metadata": {},
   "outputs": [],
   "source": [
    "palette[1]"
   ]
  },
  {
   "cell_type": "code",
   "execution_count": null,
   "metadata": {},
   "outputs": [],
   "source": [
    "def create_PSN_with_communities(G, size, seed, title, savefig):\n",
    "    \n",
    "    communities, rest_nodes = over_k_louvain(G, size)\n",
    "    \n",
    "    #col_list = ['#38761d', '#0b5394', '#351c75', '#741b47', '#783f04', '#51eaca', '#990000', '#a64d79']\n",
    "    col_list = sns.color_palette('muted', 8) #sns.plot colors\n",
    "    \n",
    "    \n",
    "    plt.figure(figsize=(10,10))\n",
    "    plt.title(f'PSN with communities detected for {title}, minimum comm size={size}')\n",
    "    pos = nx.spring_layout(G, seed=seed, k=1/15)\n",
    "        \n",
    "    for i, comm in enumerate(communities):\n",
    "        nx.draw_networkx_nodes(G, pos, nodelist=list(comm), node_size=80, alpha=0.7, node_color=col_list[i])\n",
    "    \n",
    "    nx.draw_networkx_nodes(G, pos, nodelist=rest_nodes, node_size=80, alpha=0.7, node_color='#5b5b5b')\n",
    "    nx.draw_networkx_edges(G, pos, width=2, alpha = 0.1)\n",
    "    \n",
    "    plt.grid(False)\n",
    "    plt.gca().set_facecolor('white')\n",
    "    \n",
    "    if savefig:\n",
    "        plt.savefig(f'Communitites_{title}.svg')\n",
    "    \n",
    "    return sorted(communities)\n",
    "    "
   ]
  },
  {
   "cell_type": "markdown",
   "metadata": {},
   "source": [
    "#### Fused all data:"
   ]
  },
  {
   "cell_type": "code",
   "execution_count": null,
   "metadata": {},
   "outputs": [],
   "source": [
    "comms_all = create_PSN_with_communities(fusedPSN_all, 10, s, 'Fused all, cutoff 0.632', False) "
   ]
  },
  {
   "cell_type": "code",
   "execution_count": null,
   "metadata": {},
   "outputs": [],
   "source": [
    "modularity_score_all = modularity(fusedPSN_all, comms_all)\n",
    "print(modularity_score_all)"
   ]
  },
  {
   "cell_type": "code",
   "execution_count": null,
   "metadata": {},
   "outputs": [],
   "source": [
    "for i, comm in enumerate(comms_all):\n",
    "    if len(comm) < 20:\n",
    "        comms_all.remove(comm)\n",
    "    print(len(comm), i)"
   ]
  },
  {
   "cell_type": "code",
   "execution_count": null,
   "metadata": {},
   "outputs": [],
   "source": [
    "community_dist = {'A':126, 'B':110, 'C': 106}"
   ]
  },
  {
   "cell_type": "code",
   "execution_count": null,
   "metadata": {},
   "outputs": [],
   "source": [
    "comm_df = pd.DataFrame(list(community_dist.items()), columns=['Community', 'Size'])\n",
    "sns.barplot(x='Community', y='Size', data=comm_df, palette='muted')\n",
    "plt.title('Community distribution')\n",
    "plt.savefig('Community_dist_bar.svg')\n",
    "plt.show()"
   ]
  },
  {
   "cell_type": "markdown",
   "metadata": {},
   "source": [
    "## Cluster alignment:"
   ]
  },
  {
   "cell_type": "code",
   "execution_count": null,
   "metadata": {},
   "outputs": [],
   "source": [
    "def cluster_alignment(adjM1, adjM2):\n",
    "    '''\n",
    "    Finds cluster alignment for two networks from their adjacency matrices\n",
    "    Finds the 10 nearest neighbors for a node and compares to the 10 nearest neighbors\n",
    "    for the same node in the other network using jaccard similarity.\n",
    "    \n",
    "    input: adjacency matrix 1 and 2\n",
    "    \n",
    "    returns list of alignment distribution for the two graphs\n",
    "    '''\n",
    "    alignment_scores = []\n",
    "    \n",
    "    G1 = nx.from_numpy_array(adjM1)\n",
    "    G1_nodes = list(G1.nodes)\n",
    "    \n",
    "    G2 = nx.from_numpy_array(adjM2)\n",
    "    G2_nodes = list(G2.nodes)\n",
    "    \n",
    "    n = len(G1_nodes)\n",
    "    \n",
    "    for i in range(n):\n",
    "        \n",
    "        G1_node = G1_nodes[i]\n",
    "        G2_node = G2_nodes[i]\n",
    "        \n",
    "        if G1_node == G2_node: # check if the nodes are the same \n",
    "        \n",
    "            nn_1 = find_10_nn(G1, G1_node) \n",
    "            nn_2 = find_10_nn(G2, G2_node)\n",
    "            \n",
    "            align_score = jaccard_sim(set(nn_1), set(nn_2))\n",
    "            alignment_scores.append(align_score)\n",
    "            \n",
    "        else:\n",
    "            \n",
    "            print('Not same nodes in the networks!')\n",
    "            break\n",
    "    \n",
    "    return alignment_scores\n",
    "    \n",
    "    "
   ]
  },
  {
   "cell_type": "code",
   "execution_count": null,
   "metadata": {},
   "outputs": [],
   "source": [
    "def find_10_nn(G, node):\n",
    "    '''\n",
    "    Finding 10 nearest neighbors for node in graph G (based on greatest weight)\n",
    "    '''\n",
    "    \n",
    "    neighbors = G[node]\n",
    "    top_10 = sorted(neighbors.items(), key=lambda x: x[1]['weight'], reverse=True)[:10]\n",
    "    \n",
    "    return [neigh for neigh, weight in top_10]\n",
    "        "
   ]
  },
  {
   "cell_type": "code",
   "execution_count": null,
   "metadata": {},
   "outputs": [],
   "source": [
    "cluster_align_eucl_cos = cluster_alignment(adjM_eucl, adjM_cos)"
   ]
  },
  {
   "cell_type": "code",
   "execution_count": null,
   "metadata": {},
   "outputs": [],
   "source": [
    "cluster_align_eucl_pears = cluster_alignment(adjM_eucl, adjM_pears)"
   ]
  },
  {
   "cell_type": "code",
   "execution_count": null,
   "metadata": {},
   "outputs": [],
   "source": [
    "cluster_align_cos_pears = cluster_alignment(adjM_cos, adjM_pears)"
   ]
  },
  {
   "cell_type": "code",
   "execution_count": null,
   "metadata": {},
   "outputs": [],
   "source": [
    "np.average(cluster_align_cos_pears)"
   ]
  },
  {
   "cell_type": "code",
   "execution_count": null,
   "metadata": {},
   "outputs": [],
   "source": [
    "cluster_algn_df = pd.DataFrame(columns=['eucl_cos', 'eucl_pears', 'cos_pears'])\n",
    "cluster_algn_df['eucl_cos'] = cluster_align_eucl_cos\n",
    "cluster_algn_df['eucl_pears'] = cluster_align_eucl_pears\n",
    "cluster_algn_df['cos_pears'] = cluster_align_cos_pears\n",
    "\n",
    "cluster_algn_df"
   ]
  },
  {
   "cell_type": "code",
   "execution_count": null,
   "metadata": {},
   "outputs": [],
   "source": [
    "plt.Figure(figsize=(5,5))\n",
    "plt.title('Cluster alignment distribution between PSNs created with the respective similarity metrics')\n",
    "sns.violinplot(cluster_algn_df)\n",
    "plt.yticks([0, 0.5, 1.0])\n",
    "plt.ylim(0,1.1)\n",
    "plt.savefig('cluster alignment distribution.svg')"
   ]
  },
  {
   "cell_type": "code",
   "execution_count": null,
   "metadata": {},
   "outputs": [],
   "source": [
    "plt.Figure(figsize=(5,5))\n",
    "plt.title('Cluster alignment distribution cantab, eucl and cos')\n",
    "sns.violinplot(cluster_align_eucl_cos)\n",
    "plt.yticks([0, 0.5, 1.0])\n",
    "plt.ylim(0,1.1)\n",
    "plt.savefig('violin_CA_eucl_cos.svg')"
   ]
  },
  {
   "cell_type": "code",
   "execution_count": null,
   "metadata": {},
   "outputs": [],
   "source": [
    "\n",
    "plt.Figure(figsize=(5,5))\n",
    "plt.title('Cluster alignment distribution cantab, eucl and pears')\n",
    "ax1 = sns.violinplot(cluster_align_eucl_pears, inner_kws=dict(alpha=0.5))\n",
    "ax1.set_alpha(0.5)\n",
    "#sns.stripplot(cluster_align_eucl_pears)\n",
    "plt.yticks([0, 0.5, 1.0])\n",
    "plt.ylim(0,1.1)\n",
    "plt.savefig('violin_CA_eucl_pears.svg')\n",
    "\n",
    "#sns.violinplot(data=df, x=\"age\", inner_kws=dict(box_width=15, whis_width=2, color=\".8\"))"
   ]
  },
  {
   "cell_type": "code",
   "execution_count": null,
   "metadata": {},
   "outputs": [],
   "source": [
    "plt.Figure(figsize=(2,2))\n",
    "plt.title('Cluster alignment distribution cantab, cos and pears')\n",
    "sns.violinplot(cluster_align_cos_pears)\n",
    "plt.yticks([0, 0.5, 1.0])\n",
    "plt.ylim(0,1.1)\n",
    "plt.savefig('violin_CA_cos_pears.svg')\n",
    "print(np.mean(cluster_align_cos_pears))"
   ]
  },
  {
   "cell_type": "markdown",
   "metadata": {},
   "source": [
    "## Finding sim-cutoff vs modularity"
   ]
  },
  {
   "cell_type": "code",
   "execution_count": null,
   "metadata": {},
   "outputs": [],
   "source": [
    "degrees = dict(x.degree())\n",
    "avg_deg = sum(degrees.values()) / len(x)\n",
    "avg_deg"
   ]
  },
  {
   "cell_type": "code",
   "execution_count": null,
   "metadata": {},
   "outputs": [],
   "source": [
    "def plot_cutoff_vs_modularity(adjM, file_name):\n",
    "\n",
    "    cutoffs = np.linspace(0, 1, num = 20) \n",
    "    print(cutoffs)\n",
    "    \n",
    "    number_of_communities = []\n",
    "    modularity_scores = []\n",
    "    similarities = []\n",
    "    degrees = []\n",
    "    clustering = []\n",
    "    mod_vs_comm = []\n",
    "    \n",
    "    for cutoff in cutoffs: # iterate over cutoffs and create a PSN-network for each\n",
    "        \n",
    "        G = nx.from_numpy_array(adjM)\n",
    "        PSN = nx.Graph()\n",
    "        PSN.add_nodes_from(G.nodes)\n",
    "        n = len(G.nodes)\n",
    "        \n",
    "        for i in range(n):\n",
    "            for j in range(i+1,n):\n",
    "                #print(f'{i}, {j}')\n",
    "                sim = adjM[i,j]\n",
    "                similarities.append(sim)\n",
    "                if sim > cutoff:\n",
    "                    PSN.add_edge(i, j, weight = sim)\n",
    "        \n",
    "        if len(PSN.edges()) == 0: \n",
    "            \n",
    "            number_of_communities.append(np.nan)\n",
    "            modularity_score = np.nan\n",
    "            mod_vs_comm_score = np.nan\n",
    "            \n",
    "        else:\n",
    "            \n",
    "            communities = community.louvain_communities(PSN)\n",
    "            number_of_communities.append(len(communities))\n",
    "            modularity_score = modularity(PSN, communities)\n",
    "            mod_vs_comm_score = modularity_score/len(communities)\n",
    "            \n",
    "            #print(mod_vs_comm_score)\n",
    "        \n",
    "        modularity_scores.append(modularity_score)\n",
    "        mod_vs_comm.append(mod_vs_comm_score)\n",
    "        \n",
    "        deg = dict(PSN.degree())\n",
    "        avg_degree = sum(deg.values()) / len(PSN)\n",
    "        degrees.append(avg_degree)\n",
    "        clustering.append(nx.average_clustering(PSN))\n",
    "        \n",
    "        \n",
    "    mod_array = np.array(modularity_scores)\n",
    "    masked_mod_array = np.ma.masked_invalid(mod_array) # masking the empty values \n",
    "    \n",
    "    comm_array = np.array(number_of_communities)\n",
    "    masked_comm_array = np.ma.masked_invalid(comm_array) # masking the empty values \n",
    "    \n",
    "    #print(mod_vs_comm)\n",
    "    mod_vs_comm_array = np.array(mod_vs_comm)\n",
    "    masked_modcom_array = np.ma.masked_invalid(mod_vs_comm_array) # masking the empty values \n",
    "    \n",
    "    sorted_sim = sorted(similarities, reverse=True)\n",
    "    top_10_cutoff = sorted_sim[int(0.1*len(sorted_sim))]\n",
    "    \n",
    "    cutoff = cutoffs[12]\n",
    "    \n",
    "    \n",
    "    # plotting cuttoffs against the variables:\n",
    "    \n",
    "    sns.set_style('whitegrid')\n",
    "    \n",
    "    fig, ((ax1, ax2), (ax3, ax4), (ax5, ax6)) = plt.subplots(3,2, figsize=(8,10))\n",
    "    fig.suptitle('Dynamics of PSN connectivity and modularity as cutoff changes')\n",
    "    \n",
    "    ax1.plot(cutoffs, masked_comm_array, marker='o')\n",
    "    #ax1.axvline(top_10_cutoff, color='k', linestyle = '--', linewidth=2)\n",
    "    ax1.axvline(cutoff, color='k', linestyle = '--', linewidth=2)\n",
    "    ax1.set_xlabel('Similarity cutoff')\n",
    "    ax1.set_ylabel('Number of communities')\n",
    "    ax1.set_xlim(-0.05,1.05)\n",
    "    ax1.grid(False)\n",
    "    ax1.set_facecolor('white')\n",
    "    \n",
    "    ax2.plot(cutoffs, masked_mod_array, marker='o', color='r')\n",
    "    #ax2.axvline(top_10_cutoff, color='k', linestyle = '--', linewidth=2)\n",
    "    ax2.axvline(cutoff, color='k', linestyle = '--', linewidth=2)\n",
    "    ax2.set_xlabel('Similarity cutoff')\n",
    "    ax2.set_ylabel('Modularity score')\n",
    "    ax2.set_xlim(-0.05,1.05)\n",
    "    ax2.set_yticks([i/10 for i in range(11)])\n",
    "    ax2.grid(False)\n",
    "    ax2.set_facecolor('white')\n",
    "    \n",
    "    ax3.plot(cutoffs, degrees, marker='o', color='g')\n",
    "    #ax3.axvline(top_10_cutoff, color='k', linestyle = '--', linewidth=2)\n",
    "    ax3.axvline(cutoff, color='k', linestyle = '--', linewidth=2)\n",
    "    ax3.set_xlabel('Similarity cutoff')\n",
    "    ax3.set_ylabel('Average node degree')\n",
    "    ax3.set_xlim(-0.05,1.05)\n",
    "    ax3.set_yticks([0, 50, 100, 150, 200, 250, 300, 350])\n",
    "    ax3.grid(False)\n",
    "    ax3.set_facecolor('white')\n",
    "    \n",
    "    ax4.plot(cutoffs, clustering, marker='o', color='#6a329f')\n",
    "    #ax4.axvline(top_10_cutoff, color='k', linestyle = '--', linewidth=2)\n",
    "    ax4.axvline(cutoff, color='k', linestyle = '--', linewidth=2)\n",
    "    ax4.set_xlabel('Similarity cutoff')\n",
    "    ax4.set_ylabel('Average clustering')\n",
    "    ax4.set_xlim(-0.05,1.05)\n",
    "    ax4.set_yticks([i/10 for i in range(11)])\n",
    "    ax4.grid(False)\n",
    "    ax4.set_facecolor('white')\n",
    "    \n",
    "    ax5.plot(cutoffs, masked_modcom_array, marker='o', color='#f39b3e')\n",
    "    #ax5.axvline(top_10_cutoff, color='k', linestyle = '--', linewidth=2)\n",
    "    ax5.axvline(cutoff, color='k', linestyle = '--', linewidth=2)\n",
    "    ax5.set_xlabel('Similarity cutoff')\n",
    "    ax5.set_ylabel('modularity/#communities')\n",
    "    ax5.set_xlim(-0.05,1.05)\n",
    "    ax5.set_ylim(0,0.1)\n",
    "    ax5.grid(False)\n",
    "    ax5.set_facecolor('white')\n",
    "    \n",
    "    \n",
    "    ax6.plot(cutoffs, masked_mod_array, marker='o', color='r', label='Modularity')\n",
    "    ax6.plot(cutoffs, clustering, marker='o', color= '#6a329f', label='Clustering')\n",
    "    #ax6.axvline(top_10_cutoff, color='k', linestyle = '--', linewidth=2)\n",
    "    ax6.axvline(cutoff, color='k', linestyle = '--', linewidth=2)\n",
    "    ax6.set_xlabel('Similarity cutoff')\n",
    "    ax6.set_ylabel('Score')\n",
    "    ax6.set_xlim(-0.05, 1.05)\n",
    "    ax6.set_yticks([i/10 for i in range(11)])\n",
    "    ax6.tick_params(axis='both', which='both', direction='out', length=6, width=1)\n",
    "    ax6.grid(False)\n",
    "    ax6.legend()\n",
    "    \n",
    "    \n",
    "    \n",
    "    #sns.axes_style(\"whitegrid\")\n",
    "    plt.tight_layout()\n",
    "    sns.set(font_scale=1.2)\n",
    "    \n",
    "    if file_name:\n",
    "        plt.savefig(file_name)\n",
    "        \n",
    "    plt.show()\n",
    "    print(mod_vs_comm_array)\n",
    "       \n",
    "    \n",
    "    for comms in number_of_communities:\n",
    "        print(comms)\n",
    "        \n",
    "    for i, modcom in enumerate(masked_modcom_array):\n",
    "        print(f'{modcom}, {i}')\n",
    "     \n"
   ]
  },
  {
   "cell_type": "markdown",
   "metadata": {},
   "source": [
    "### Fused all:"
   ]
  },
  {
   "cell_type": "code",
   "execution_count": null,
   "metadata": {},
   "outputs": [],
   "source": [
    "plot_cutoff_vs_modularity(fusedM_APOE_cantab_cos_clinical_ptau, 'cutoff_mod_all_data.svg')# "
   ]
  }
 ],
 "metadata": {
  "interpreter": {
   "hash": "1d80444893d320d7e4733e434352110c585b8aed494898121b8a15c02ffa92d5"
  },
  "kernelspec": {
   "display_name": "Python 3.11.4 ('masterEnv')",
   "language": "python",
   "name": "python3"
  },
  "language_info": {
   "codemirror_mode": {
    "name": "ipython",
    "version": 3
   },
   "file_extension": ".py",
   "mimetype": "text/x-python",
   "name": "python",
   "nbconvert_exporter": "python",
   "pygments_lexer": "ipython3",
   "version": "3.11.4"
  },
  "orig_nbformat": 4
 },
 "nbformat": 4,
 "nbformat_minor": 2
}
