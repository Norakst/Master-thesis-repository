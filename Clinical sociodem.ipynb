{
 "cells": [
  {
   "cell_type": "code",
   "execution_count": null,
   "metadata": {},
   "outputs": [],
   "source": []
  },
  {
   "cell_type": "code",
   "execution_count": null,
   "metadata": {},
   "outputs": [],
   "source": [
    "import pandas as pd \n",
    "import numpy as np \n",
    "import networkx as nx \n",
    "from sklearn.preprocessing import MinMaxScaler\n",
    "from sklearn.preprocessing import StandardScaler\n",
    "import matplotlib.pyplot as plt\n",
    "%matplotlib inline\n",
    "import seaborn as sns\n",
    "#import altair as alt\n",
    "from sklearn.metrics.pairwise import cosine_similarity\n",
    "#import nx_altair as nxa\n",
    "#import snf\n",
    "sns.set_style(\"darkgrid\")\n"
   ]
  },
  {
   "cell_type": "markdown",
   "metadata": {},
   "source": [
    "#### Functions:"
   ]
  },
  {
   "cell_type": "code",
   "execution_count": null,
   "metadata": {},
   "outputs": [],
   "source": [
    "matched_IDs = [] # list of participant IDs"
   ]
  },
  {
   "cell_type": "code",
   "execution_count": null,
   "metadata": {},
   "outputs": [],
   "source": [
    "def sort_df_IDs(df, ID_list):\n",
    "\n",
    "    sorted_df = df[df['participant_id'].isin(ID_list)].sort_values(by=['participant_id'], key=lambda x: x.map({v: i for i, v in enumerate(ID_list)}))\n",
    "    sorted_df = sorted_df.reset_index(drop=True)\n",
    "    return sorted_df\n"
   ]
  },
  {
   "cell_type": "code",
   "execution_count": null,
   "metadata": {},
   "outputs": [],
   "source": [
    "def sex_to_binary(df_):\n",
    "    df = df_.copy()\n",
    "    for i, entry in enumerate(df['sex']):\n",
    "        if entry == 'male':\n",
    "            df['sex'][i] = 0\n",
    "        elif entry == 'female':\n",
    "            df['sex'][i] = 1\n",
    "    return df "
   ]
  },
  {
   "cell_type": "code",
   "execution_count": null,
   "metadata": {},
   "outputs": [],
   "source": [
    "def handedness_to_binary(df_):\n",
    "    df = df_.copy()\n",
    "    for i, entry in enumerate(df['handedness']):\n",
    "        if entry == 'right':\n",
    "            df['handedness'][i] = 1\n",
    "        elif entry == 'left':\n",
    "            df['handedness'][i] = 0\n",
    "        elif entry == 'ambidex':\n",
    "            df['handedness'][i] = 2  \n",
    "    return df"
   ]
  },
  {
   "cell_type": "code",
   "execution_count": null,
   "metadata": {},
   "outputs": [],
   "source": [
    "def dep_variable(df_): \n",
    "    \"\"\"\n",
    "    Takes in a df\n",
    "    creates a variable dep_tot (0 or 1) based on the dep scores from different scales madrs and gds\n",
    "    returns df with updated variable column\n",
    "    \"\"\"\n",
    "\n",
    "    df = df_.copy()\n",
    "    df['dep_tot'] = 0\n",
    "\n",
    "    for i in range(len(df)):\n",
    "\n",
    "        if df['dep_scale'][i] == 'madrs':\n",
    "            if df['dep_scale_score'][i] >= 12:\n",
    "                dep_tot = 1\n",
    "            elif df['dep_scale_score'][i] < 12:\n",
    "                dep_tot = 0\n",
    "\n",
    "        elif df['dep_scale'][i] == 'gds':\n",
    "            if df['dep_scale_score'][i] > 5:\n",
    "                dep_tot = 1\n",
    "            elif df['dep_scale_score'][i] <= 5:\n",
    "                dep_tot = 0\n",
    "        elif df['dep_scale'][i] == 'other':\n",
    "            dep_tot = 0\n",
    "\n",
    "        df['dep_tot'][i] = dep_tot\n",
    "\n",
    "    return df"
   ]
  },
  {
   "cell_type": "code",
   "execution_count": null,
   "metadata": {},
   "outputs": [],
   "source": [
    "def bmi(df_):\n",
    "\n",
    "    df = df_.copy()\n",
    "    df['bmi'] = 0\n",
    "\n",
    "    for i in range(len(df)):\n",
    "        height = df['height_cm'][i]*0.01\n",
    "        weight = df['weight_kg'][i]\n",
    "        bmi = weight/(height**2)\n",
    "        df['bmi'][i] = bmi\n",
    "\n",
    "    return df\n",
    "    "
   ]
  },
  {
   "cell_type": "code",
   "execution_count": null,
   "metadata": {},
   "outputs": [],
   "source": [
    "def scale_df(df_, cols, sc):\n",
    "    '''\n",
    "    Takes in a dataframe (can contain participant and session id), a list of variables for column names, name of scaler \n",
    "    scales df with standardscaling or minmax\n",
    "    assigns new df with given columns\n",
    "    returns scaled df with participant and session id\n",
    "\n",
    "    '''\n",
    "    df = df_.copy()\n",
    "    \n",
    "    if sc == 'standard':\n",
    "        scaler = StandardScaler()\n",
    "    elif sc == 'minmax':\n",
    "        scaler = MinMaxScaler()\n",
    "    df_sc = scaler.fit_transform(df[cols])\n",
    "    df_sc = pd.DataFrame(df_sc, columns = cols)\n",
    "    df[cols] = df_sc \n",
    "\n",
    "    return df"
   ]
  },
  {
   "cell_type": "code",
   "execution_count": null,
   "metadata": {},
   "outputs": [],
   "source": [
    "def scale_adjMatrix(adjM, sc):\n",
    "\n",
    "    if sc == 'standard':\n",
    "        scaler = StandardScaler()\n",
    "    elif sc == 'minmax':\n",
    "        scaler = MinMaxScaler()\n",
    "\n",
    "    mask = np.triu(np.ones_like(adjM, dtype=bool), k=1) # mask the lower triangle and diagonal for scaling\n",
    "    adjM_sc = adjM.copy()\n",
    "    adjM_sc[mask] = scaler.fit_transform(adjM[mask].reshape(-1, 1)).flatten()\n",
    "\n",
    "\n",
    "    return adjM_sc"
   ]
  },
  {
   "cell_type": "code",
   "execution_count": null,
   "metadata": {},
   "outputs": [],
   "source": [
    "def makeAdjMatrix(df, sim_metric, save_adjM): #'Eucl', 'Cos', 'Pears'\n",
    "\n",
    "    n = len(df) # find number of rows (number of participant sessions)\n",
    "    adj_matrix = np.eye(n) # create adjacency matrix with 1s along diagonal\n",
    "\n",
    "    if sim_metric == 'Eucl':\n",
    "        distances = pdist(df.values, metric='euclidean') # Compute pairwise Euclidean distances between participants in a condensed array\n",
    "        sq_distances = squareform(distances) # Convert the condensed distance matrix into a square distance matrix\n",
    "        \n",
    "        # Fill the upper triangle of the similarity matrix with similarities:\n",
    "        for i in range(n):\n",
    "            for j in range(i+1, n):\n",
    "                adj_matrix[i, j] = 1 / (1 + sq_distances[i, j])\n",
    "\n",
    "    elif sim_metric == 'Cos':\n",
    "        similarities = cosine_similarity(df.values)\n",
    "\n",
    "        # Fill the upper triangle of the similarity matrix with similarities:\n",
    "        for i in range(n):\n",
    "            for j in range(i+1, n):\n",
    "                adj_matrix[i, j] = similarities[i, j]\n",
    "\n",
    "    elif sim_metric == 'Pears':\n",
    "        df_trans = df.copy().transpose() # Transpose the df so that participants are along the columns (necessary for the correlation function)\n",
    "        sim_matrix_p = df_trans.corr() # Compute the similarity matrix with pearson correlation\n",
    "        adj_matrix = np.triu(sim_matrix_p.values) # Extract the upper triangular part of the array (including the diagonal)\n",
    "\n",
    "    if save_adjM:\n",
    "        np.savetxt(f'adjM_clinical_{sim_metric}.csv', X=adj_matrix, delimiter=',')\n",
    "\n",
    "    return adj_matrix"
   ]
  },
  {
   "cell_type": "code",
   "execution_count": 1,
   "metadata": {},
   "outputs": [],
   "source": [
    "def create_PSN(adj, phi, s, title): \n",
    "    '''\n",
    "    Takes in adjacency matrix adj, cutoff phi and seed s\n",
    "    Creates and draws network graph with spring layout\n",
    "    \n",
    "    returns network and similarity list\n",
    "    '''\n",
    "    \n",
    "    G = nx.from_numpy_array(adj)\n",
    "    PSN = nx.Graph()\n",
    "    PSN.add_nodes_from(G.nodes)\n",
    "\n",
    "    similarities = []\n",
    "    n = len(G.nodes)\n",
    "\n",
    "    for i in range(n):\n",
    "        for j in range(i+1,n):\n",
    "            sim = adj[i,j]\n",
    "            similarities.append(sim)\n",
    "            if sim > phi:\n",
    "                PSN.add_edge(i, j, weight = sim)\n",
    "\n",
    "\n",
    "    plt.figure(figsize=(15,10))\n",
    "    plt.title(title + ', phi= ' + str(phi))\n",
    "    pos = nx.spring_layout(PSN, seed = s, k=1/3)\n",
    "    nx.draw_networkx_nodes(PSN, pos = pos, node_size = 80, alpha=0.7)\n",
    "    nx.draw_networkx_edges(PSN, pos=pos, width=2, alpha=1/10)\n",
    "\n",
    "    plt.grid(False)\n",
    "    plt.gca().set_facecolor('white')\n",
    "    \n",
    "    return PSN, similarities"
   ]
  },
  {
   "cell_type": "code",
   "execution_count": null,
   "metadata": {},
   "outputs": [],
   "source": [
    "def plot_similarities(sim, title):\n",
    "\n",
    "    plt.figure(figsize=(13,8))\n",
    "    plt.title(title)\n",
    "    plt.xlabel('Similarities')\n",
    "\n",
    "    sns.set(font_scale=1.2) \n",
    "    sns.histplot(sim, bins=100)\n",
    "\n",
    "    plt.axvline(np.mean(sim), color='k', linestyle='dashed', linewidth=1)\n",
    "\n",
    "    sorted_sim = sorted(sim, reverse=True)\n",
    "    top_10_index = int(0.1 *len(sorted_sim))\n",
    "    top_10_cutoff = sorted_sim[top_10_index]\n",
    "\n",
    "    plt.axvline(top_10_cutoff, color = 'k', linestyle='dashed', linewidth=2)\n",
    "\n",
    "    plt.show()\n",
    "\n",
    "    print('mean: ' + str(np.nanmean(sim)))\n",
    "    print('Top 10 percent similarities: ' + str(top_10_cutoff))\n",
    "    "
   ]
  },
  {
   "cell_type": "code",
   "execution_count": null,
   "metadata": {},
   "outputs": [],
   "source": [
    "picked_some_var= ['participant_id',\n",
    " 'age',\n",
    " 'sex',\n",
    " 'education',\n",
    " 'handedness',\n",
    " 'children_num',\n",
    " 'cog_scale',\n",
    " 'cog_scale_score',\n",
    " 'cdr_gs',\n",
    " 'dep_scale',\n",
    " 'dep_scale_score',\n",
    " 'alc_scale_score',\n",
    " 'height_cm',\n",
    " 'weight_kg',\n",
    " 'dem_num_firstdeg',\n",
    " 'smoke',\n",
    " 'physact_freq',\n",
    " 'heart',\n",
    " 'hypertension',\n",
    " 'vascular',\n",
    " 'liver',\n",
    " 'cpns',\n",
    " 'cancer'\n",
    " ]"
   ]
  },
  {
   "cell_type": "markdown",
   "metadata": {},
   "source": [
    "#### Pre-processing:"
   ]
  },
  {
   "cell_type": "code",
   "execution_count": null,
   "metadata": {},
   "outputs": [],
   "source": [
    "clinical_df = pd.read_excel('..........xlsx', sheet_name='Sheet2')\n",
    "picked_df = clinical_df[picked_some_var]\n",
    "picked_df = sort_df_IDs(picked_df.copy(), matched_IDs)"
   ]
  },
  {
   "cell_type": "code",
   "execution_count": null,
   "metadata": {},
   "outputs": [],
   "source": [
    "# setting some nan-values and extreme values to valid numbers:\n",
    "\n",
    "picked_df['dem_num_firstdeg'][6] = 0 # setting an extreme value (60) to 0\n",
    "\n",
    "picked_df['height_cm'][5] = 175  # two participants had height 1m and weight 20kg. setting to around normal measures.\n",
    "picked_df['weight_kg'][5] = 80\n",
    "picked_df['height_cm'][117] = 165\n",
    "picked_df['weight_kg'][117] = 60\n",
    "\n",
    "missing_dem_num = picked_df['dem_num_firstdeg'].isnull()\n",
    "missing_ind_dem_num = missing_dem_num[missing_dem_num].index\n",
    "picked_df.loc[missing_ind_dem_num, 'dem_num_firstdeg'] = 0\n",
    "\n",
    "missing_smoke = picked_df['smoke'].isnull()\n",
    "missing_ind_smoke = missing_smoke[missing_smoke].index\n",
    "picked_df.loc[missing_ind_smoke, 'smoke'] = 0\n",
    "\n",
    "missing_physact = picked_df['physact_freq'].isnull()\n",
    "missing_ind_physact = missing_physact[missing_physact].index\n",
    "picked_df.loc[missing_ind_physact, 'physact_freq'] = 4\n",
    "\n",
    "# changing variable values for 'sex' ('male', 'female') to (0, 1):\n",
    "picked_df = sex_to_binary(picked_df)\n",
    "picked_df = handedness_to_binary(picked_df)\n",
    "picked_df = bmi(picked_df)\n",
    "\n",
    "picked_some_var.append('bmi')\n",
    "picked_some_var.remove('height_cm')\n",
    "picked_some_var.remove('weight_kg')\n",
    "\n",
    "#picked_df = smoke_variable(picked_df)\n",
    "#picked_some_var.append('smoke_tot')\n",
    "#picked_some_var.remove('smoke')\n",
    "\n",
    "picked_df = dep_variable(picked_df)\n",
    "picked_some_var.append('dep_tot')\n",
    "picked_some_var.remove('dep_scale')\n",
    "picked_some_var.remove('dep_scale_score')\n",
    "\n",
    "picked_df = picked_df[picked_some_var]\n"
   ]
  },
  {
   "cell_type": "code",
   "execution_count": null,
   "metadata": {},
   "outputs": [],
   "source": [
    "df_clin_sc = scale_df(picked_df, picked_some_var[1:], 'minmax')\n",
    "df_clin_sc"
   ]
  },
  {
   "cell_type": "markdown",
   "metadata": {},
   "source": [
    "#### PSN implementation:"
   ]
  },
  {
   "cell_type": "code",
   "execution_count": null,
   "metadata": {},
   "outputs": [],
   "source": [
    "IDs_clin = list(df_clin_sc['participant_id'])\n",
    "len(IDs_clin)\n"
   ]
  },
  {
   "cell_type": "code",
   "execution_count": null,
   "metadata": {},
   "outputs": [],
   "source": [
    "adjM = makeAdjMatrix(df_clin_sc[picked_some_var[1:]], 'Cos', True)"
   ]
  },
  {
   "cell_type": "code",
   "execution_count": null,
   "metadata": {},
   "outputs": [],
   "source": [
    "adjM_sc = scale_adjMatrix(adjM, 'standard')"
   ]
  },
  {
   "cell_type": "code",
   "execution_count": null,
   "metadata": {},
   "outputs": [],
   "source": [
    "clin_PSN, clin_sim = create_PSN(adjM, 0.772, 100, 'PSN clinical data (n=342)') # adj, phi, s, title)"
   ]
  },
  {
   "cell_type": "code",
   "execution_count": null,
   "metadata": {},
   "outputs": [],
   "source": [
    "plot_similarities(clin_sim, 'clinical similarities')"
   ]
  }
 ],
 "metadata": {
  "kernelspec": {
   "display_name": "base",
   "language": "python",
   "name": "python3"
  },
  "language_info": {
   "codemirror_mode": {
    "name": "ipython",
    "version": 3
   },
   "file_extension": ".py",
   "mimetype": "text/x-python",
   "name": "python",
   "nbconvert_exporter": "python",
   "pygments_lexer": "ipython3",
   "version": "3.8.5"
  },
  "orig_nbformat": 4
 },
 "nbformat": 4,
 "nbformat_minor": 2
}
