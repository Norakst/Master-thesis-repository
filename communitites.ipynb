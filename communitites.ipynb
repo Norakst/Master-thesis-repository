{
 "cells": [
  {
   "cell_type": "code",
   "execution_count": null,
   "metadata": {},
   "outputs": [],
   "source": [
    "import pandas as pd\n",
    "import sklearn\n",
    "from sklearn.preprocessing import MinMaxScaler\n",
    "from sklearn.preprocessing import StandardScaler\n",
    "import numpy as np\n",
    "import networkx as nx\n",
    "import matplotlib.pyplot as plt\n",
    "import seaborn as sns\n",
    "from sklearn.metrics.pairwise import cosine_similarity\n",
    "from scipy.spatial.distance import pdist, squareform\n",
    "sns.set_style(\"white\")\n",
    "from scipy.stats import chi2_contingency\n",
    "from scipy.stats import f_oneway"
   ]
  },
  {
   "cell_type": "markdown",
   "metadata": {},
   "source": [
    "## Functions:"
   ]
  },
  {
   "cell_type": "markdown",
   "metadata": {},
   "source": [
    "## Filter data:"
   ]
  },
  {
   "cell_type": "code",
   "execution_count": null,
   "metadata": {},
   "outputs": [],
   "source": [
    "apoe_df = pd.read_csv('data_dfs/apoe_df.csv')"
   ]
  },
  {
   "cell_type": "code",
   "execution_count": null,
   "metadata": {},
   "outputs": [],
   "source": [
    "cantab_df = pd.read_csv('data_dfs/cantab_df.csv')"
   ]
  },
  {
   "cell_type": "code",
   "execution_count": null,
   "metadata": {},
   "outputs": [],
   "source": [
    "clinical_df = pd.read_csv('data_dfs/clinical_df.csv')"
   ]
  },
  {
   "cell_type": "code",
   "execution_count": null,
   "metadata": {},
   "outputs": [],
   "source": [
    "ptau_df = pd.read_csv('data_dfs/ptau_df.csv')"
   ]
  },
  {
   "cell_type": "markdown",
   "metadata": {},
   "source": [
    "### APOE:"
   ]
  },
  {
   "cell_type": "code",
   "execution_count": null,
   "metadata": {},
   "outputs": [],
   "source": [
    "apoe_df = apoe_df[['Participant', 'APOE allele combination']]\n",
    "\n",
    "apoe_df['risk'] = ' '\n",
    "\n",
    "for i in range(len(apoe_df)):\n",
    "\n",
    "    if 'E4' in apoe_df['APOE allele combination'][i]:\n",
    "        risk = 1\n",
    "    else:\n",
    "        risk = 0\n",
    "        \n",
    "    apoe_df['risk'][i] = risk\n"
   ]
  },
  {
   "cell_type": "code",
   "execution_count": null,
   "metadata": {},
   "outputs": [],
   "source": [
    "apoe_df = apoe_df[['risk']]"
   ]
  },
  {
   "cell_type": "markdown",
   "metadata": {},
   "source": [
    "### Cantab:"
   ]
  },
  {
   "cell_type": "code",
   "execution_count": null,
   "metadata": {},
   "outputs": [],
   "source": [
    "var_cantab = ['Participant ID',\n",
    "'DMSPC', \n",
    "'PALFAMS28', \n",
    "'PRMPCD', \n",
    "'RVPA', \n",
    "'SWMTE468']"
   ]
  },
  {
   "cell_type": "code",
   "execution_count": null,
   "metadata": {},
   "outputs": [],
   "source": [
    "cantab_df = cantab_df[var_cantab[1:]]"
   ]
  },
  {
   "cell_type": "code",
   "execution_count": null,
   "metadata": {},
   "outputs": [],
   "source": [
    "cantab_df"
   ]
  },
  {
   "cell_type": "markdown",
   "metadata": {},
   "source": [
    "### Clinical:"
   ]
  },
  {
   "cell_type": "code",
   "execution_count": null,
   "metadata": {},
   "outputs": [],
   "source": [
    "mmse_to_moca = [0,0,0,0,0,0,0,1,1,2,3,4,4,5,6,7,8,9,10,11,12,13,14,16,17,19,20,22,23,26,28] # conversion scores from MoCA review paper: Fasnacht et. al, 2023\n"
   ]
  },
  {
   "cell_type": "code",
   "execution_count": null,
   "metadata": {},
   "outputs": [],
   "source": [
    "def convert_mmse_to_moca(df_):\n",
    "\n",
    "    df = df_.copy()\n",
    "\n",
    "    for i in range(len(df)):\n",
    "        if df['cog_scale'][i] == 'mmse':\n",
    "            mmse = int(df['cog_scale_score'][i])\n",
    "            if mmse<31:\n",
    "                moca = mmse_to_moca[mmse]\n",
    "                df['cog_scale_score'][i] = moca\n",
    "                print(f'mmse var: {mmse}, moca nå: {moca}')\n",
    "            \n",
    "    return df"
   ]
  },
  {
   "cell_type": "code",
   "execution_count": null,
   "metadata": {},
   "outputs": [],
   "source": [
    "convert_mmse_to_moca(clinical_df)\n",
    "clinical_df = clinical_df.drop(columns=['cog_scale'])"
   ]
  },
  {
   "cell_type": "code",
   "execution_count": null,
   "metadata": {},
   "outputs": [],
   "source": [
    "clinical_df['comorb'] = ' ' # combining comorbidity\n",
    "for i in range(len(clinical_df)):\n",
    "    if sum(clinical_df.loc[i][['heart', 'hypertension', 'vascular', 'liver', 'cpns', 'cancer']]) > 0:\n",
    "        comorb = 1\n",
    "    else:\n",
    "        comorb = 0\n",
    "    clinical_df['comorb'][i] = comorb"
   ]
  },
  {
   "cell_type": "code",
   "execution_count": null,
   "metadata": {},
   "outputs": [],
   "source": [
    "clinical_var = [\n",
    "'age', \n",
    "'sex', \n",
    "'education', \n",
    "'handedness',\n",
    "'children_num',\n",
    "'cdr_gs', \n",
    "'alc_scale_score', \n",
    "'bmi',\n",
    "'dem_num_firstdeg', \n",
    "'physact_freq', \n",
    "'smoke', \n",
    "'dep_tot',\n",
    "'comorb',\n",
    "'cog_scale_score'\n",
    "]"
   ]
  },
  {
   "cell_type": "code",
   "execution_count": null,
   "metadata": {},
   "outputs": [],
   "source": [
    "clinical_df = clinical_df[clinical_var]"
   ]
  },
  {
   "cell_type": "code",
   "execution_count": null,
   "metadata": {},
   "outputs": [],
   "source": [
    "clinical_df"
   ]
  },
  {
   "cell_type": "markdown",
   "metadata": {},
   "source": [
    "### ptau:"
   ]
  },
  {
   "cell_type": "code",
   "execution_count": null,
   "metadata": {},
   "outputs": [],
   "source": [
    "ptau_df = ptau_df[[#'participant_id', \n",
    "'ptau217']]"
   ]
  },
  {
   "cell_type": "code",
   "execution_count": null,
   "metadata": {},
   "outputs": [],
   "source": [
    "ptau_df"
   ]
  },
  {
   "cell_type": "markdown",
   "metadata": {},
   "source": [
    "## Plotting:"
   ]
  },
  {
   "cell_type": "code",
   "execution_count": null,
   "metadata": {},
   "outputs": [],
   "source": [
    "test = pd.concat([apoe_df, cantab_df, clinical_df, ptau_df], axis=1)\n",
    "test = test.apply(pd.to_numeric, errors='ignore')"
   ]
  },
  {
   "cell_type": "markdown",
   "metadata": {},
   "source": [
    "### Communities found in all fused datasets :"
   ]
  },
  {
   "cell_type": "code",
   "execution_count": null,
   "metadata": {},
   "outputs": [],
   "source": [
    "commA = {0,\n",
    " 1,\n",
    " 3,\n",
    " 4,\n",
    " 7,\n",
    " 8,\n",
    " 9,\n",
    " 11,\n",
    " 15,\n",
    " 16,\n",
    " 18,\n",
    " 19,\n",
    " 23,\n",
    " 24,\n",
    " 25,\n",
    " 26,\n",
    " 30,\n",
    " 31,\n",
    " 34,\n",
    " 35,\n",
    " 37,\n",
    " 39,\n",
    " 41,\n",
    " 42,\n",
    " 44,\n",
    " 45,\n",
    " 47,\n",
    " 49,\n",
    " 50,\n",
    " 51,\n",
    " 52,\n",
    " 53,\n",
    " 54,\n",
    " 55,\n",
    " 56,\n",
    " 58,\n",
    " 61,\n",
    " 62,\n",
    " 63,\n",
    " 64,\n",
    " 65,\n",
    " 66,\n",
    " 70,\n",
    " 74,\n",
    " 75,\n",
    " 79,\n",
    " 80,\n",
    " 89,\n",
    " 91,\n",
    " 95,\n",
    " 97,\n",
    " 99,\n",
    " 102,\n",
    " 104,\n",
    " 106,\n",
    " 107,\n",
    " 108,\n",
    " 110,\n",
    " 113,\n",
    " 114,\n",
    " 115,\n",
    " 118,\n",
    " 120,\n",
    " 122,\n",
    " 123,\n",
    " 125,\n",
    " 126,\n",
    " 129,\n",
    " 132,\n",
    " 133,\n",
    " 135,\n",
    " 136,\n",
    " 138,\n",
    " 139,\n",
    " 140,\n",
    " 141,\n",
    " 142,\n",
    " 143,\n",
    " 144,\n",
    " 148,\n",
    " 149,\n",
    " 150,\n",
    " 152,\n",
    " 155,\n",
    " 160,\n",
    " 161,\n",
    " 162,\n",
    " 164,\n",
    " 166,\n",
    " 169,\n",
    " 172,\n",
    " 173,\n",
    " 185,\n",
    " 187,\n",
    " 191,\n",
    " 192,\n",
    " 193,\n",
    " 197,\n",
    " 214,\n",
    " 217,\n",
    " 218,\n",
    " 221,\n",
    " 224,\n",
    " 226,\n",
    " 227,\n",
    " 228,\n",
    " 239,\n",
    " 244,\n",
    " 248,\n",
    " 263,\n",
    " 270,\n",
    " 271,\n",
    " 287,\n",
    " 288,\n",
    " 295,\n",
    " 303,\n",
    " 304,\n",
    " 315,\n",
    " 318,\n",
    " 322,\n",
    " 324,\n",
    " 325,\n",
    " 326,\n",
    " 328,\n",
    " 335,\n",
    " 341}"
   ]
  },
  {
   "cell_type": "code",
   "execution_count": null,
   "metadata": {},
   "outputs": [],
   "source": [
    "commB = {2,\n",
    " 5,\n",
    " 10,\n",
    " 12,\n",
    " 13,\n",
    " 14,\n",
    " 17,\n",
    " 20,\n",
    " 21,\n",
    " 22,\n",
    " 27,\n",
    " 28,\n",
    " 29,\n",
    " 33,\n",
    " 36,\n",
    " 38,\n",
    " 40,\n",
    " 43,\n",
    " 48,\n",
    " 57,\n",
    " 59,\n",
    " 60,\n",
    " 67,\n",
    " 68,\n",
    " 69,\n",
    " 71,\n",
    " 73,\n",
    " 77,\n",
    " 78,\n",
    " 81,\n",
    " 82,\n",
    " 83,\n",
    " 84,\n",
    " 85,\n",
    " 87,\n",
    " 88,\n",
    " 90,\n",
    " 92,\n",
    " 93,\n",
    " 96,\n",
    " 98,\n",
    " 100,\n",
    " 101,\n",
    " 103,\n",
    " 105,\n",
    " 109,\n",
    " 111,\n",
    " 112,\n",
    " 116,\n",
    " 117,\n",
    " 119,\n",
    " 121,\n",
    " 124,\n",
    " 127,\n",
    " 128,\n",
    " 130,\n",
    " 131,\n",
    " 134,\n",
    " 137,\n",
    " 145,\n",
    " 147,\n",
    " 151,\n",
    " 153,\n",
    " 154,\n",
    " 156,\n",
    " 158,\n",
    " 163,\n",
    " 165,\n",
    " 167,\n",
    " 168,\n",
    " 171,\n",
    " 182,\n",
    " 183,\n",
    " 190,\n",
    " 201,\n",
    " 203,\n",
    " 208,\n",
    " 209,\n",
    " 210,\n",
    " 211,\n",
    " 215,\n",
    " 236,\n",
    " 237,\n",
    " 240,\n",
    " 243,\n",
    " 246,\n",
    " 251,\n",
    " 252,\n",
    " 256,\n",
    " 261,\n",
    " 269,\n",
    " 273,\n",
    " 278,\n",
    " 280,\n",
    " 282,\n",
    " 294,\n",
    " 299,\n",
    " 300,\n",
    " 301,\n",
    " 302,\n",
    " 305,\n",
    " 307,\n",
    " 308,\n",
    " 310,\n",
    " 313,\n",
    " 316,\n",
    " 320,\n",
    " 321,\n",
    " 327,\n",
    " 338}"
   ]
  },
  {
   "cell_type": "code",
   "execution_count": null,
   "metadata": {},
   "outputs": [],
   "source": [
    "commC = {6,\n",
    " 32,\n",
    " 46,\n",
    " 72,\n",
    " 76,\n",
    " 86,\n",
    " 94,\n",
    " 146,\n",
    " 157,\n",
    " 159,\n",
    " 170,\n",
    " 174,\n",
    " 175,\n",
    " 176,\n",
    " 177,\n",
    " 178,\n",
    " 179,\n",
    " 180,\n",
    " 181,\n",
    " 184,\n",
    " 186,\n",
    " 188,\n",
    " 189,\n",
    " 194,\n",
    " 195,\n",
    " 196,\n",
    " 198,\n",
    " 199,\n",
    " 200,\n",
    " 202,\n",
    " 204,\n",
    " 205,\n",
    " 206,\n",
    " 207,\n",
    " 212,\n",
    " 213,\n",
    " 216,\n",
    " 219,\n",
    " 220,\n",
    " 222,\n",
    " 223,\n",
    " 225,\n",
    " 229,\n",
    " 230,\n",
    " 231,\n",
    " 232,\n",
    " 233,\n",
    " 234,\n",
    " 235,\n",
    " 238,\n",
    " 241,\n",
    " 242,\n",
    " 245,\n",
    " 247,\n",
    " 249,\n",
    " 250,\n",
    " 253,\n",
    " 254,\n",
    " 255,\n",
    " 257,\n",
    " 258,\n",
    " 259,\n",
    " 260,\n",
    " 262,\n",
    " 264,\n",
    " 265,\n",
    " 266,\n",
    " 267,\n",
    " 268,\n",
    " 272,\n",
    " 274,\n",
    " 275,\n",
    " 276,\n",
    " 277,\n",
    " 279,\n",
    " 281,\n",
    " 283,\n",
    " 284,\n",
    " 285,\n",
    " 286,\n",
    " 289,\n",
    " 290,\n",
    " 291,\n",
    " 292,\n",
    " 293,\n",
    " 296,\n",
    " 297,\n",
    " 298,\n",
    " 306,\n",
    " 309,\n",
    " 311,\n",
    " 312,\n",
    " 314,\n",
    " 317,\n",
    " 319,\n",
    " 323,\n",
    " 329,\n",
    " 330,\n",
    " 331,\n",
    " 332,\n",
    " 333,\n",
    " 334,\n",
    " 336,\n",
    " 337,\n",
    " 339,\n",
    " 340}"
   ]
  },
  {
   "cell_type": "code",
   "execution_count": null,
   "metadata": {},
   "outputs": [],
   "source": [
    "test['community'] = 0\n",
    "\n",
    "for node in commA:\n",
    "    test['community'][node] = 'A'\n",
    "\n",
    "for node in commB:\n",
    "    test['community'][node] = 'B'\n",
    "\n",
    "for node in commC:\n",
    "    test['community'][node] = 'C'\n",
    "\n",
    "\n",
    "\n",
    "test"
   ]
  },
  {
   "cell_type": "markdown",
   "metadata": {},
   "source": [
    "## Anova, numeric variables:"
   ]
  },
  {
   "cell_type": "code",
   "execution_count": null,
   "metadata": {},
   "outputs": [],
   "source": [
    "variables = list(test.columns)[:-1]\n"
   ]
  },
  {
   "cell_type": "code",
   "execution_count": null,
   "metadata": {},
   "outputs": [],
   "source": [
    "var_numerical = [\n",
    " 'DMSPC',\n",
    " 'PALFAMS28',\n",
    " 'PRMPCD',\n",
    " 'RVPA',\n",
    " 'SWMTE468',\n",
    " 'age',\n",
    " 'children_num',\n",
    " 'alc_scale_score',\n",
    " 'bmi',\n",
    " 'dem_num_firstdeg',\n",
    " 'ptau217'\n",
    "]"
   ]
  },
  {
   "cell_type": "code",
   "execution_count": null,
   "metadata": {},
   "outputs": [],
   "source": [
    "var_categorical = [\n",
    " 'education',\n",
    " 'physact_freq',\n",
    " 'smoke',\n",
    " 'dep_tot',\n",
    "]"
   ]
  },
  {
   "cell_type": "code",
   "execution_count": null,
   "metadata": {},
   "outputs": [],
   "source": [
    "var_binary = [\n",
    "'risk',\n",
    "'sex',\n",
    "'cdr_gs',\n",
    "'handedness',\n",
    "'comorb',]"
   ]
  },
  {
   "cell_type": "code",
   "execution_count": null,
   "metadata": {},
   "outputs": [],
   "source": [
    "for_anova = var_numerical #+ var_binary"
   ]
  },
  {
   "cell_type": "code",
   "execution_count": null,
   "metadata": {},
   "outputs": [],
   "source": [
    "\n",
    "\n",
    "df_num = test.copy()\n",
    "df_num = df_num[for_anova + ['community']]\n",
    "\n",
    "F_stats = []\n",
    "p_vals = []\n",
    "\n",
    "#anova_df = pd.DataFrame(columns=['variable', 'Fstat', 'pval'])\n",
    "\n",
    "for var in for_anova:\n",
    "\n",
    "    F_stat, p_val = f_oneway(*[group for comm, group in df_num.groupby('community')[var]])\n",
    "    \n",
    "    F_stats.append(F_stat)\n",
    "    p_vals.append(p_val)\n",
    "    \n",
    "    print(f'{var}:     F-statistic: {F_stat},     p-val: {p_val}')\n",
    "\n",
    "plt.figure(figsize=(10,10))\n",
    "\n",
    "# Bar plot for F-statistics\n",
    "sns.barplot(x=for_anova, y=p_vals, color='cadetblue')\n",
    "\n",
    "\n",
    "plt.ylabel('P-value', fontsize=18)\n",
    "plt.xlabel('Variables', fontsize=18)\n",
    "plt.title('ANOVA Results for numeric variables', fontsize=20)\n",
    "\n",
    "\n",
    "\n",
    "plt.tick_params(axis='x', rotation=45, labelsize=15) # Rotate x-axis labels for better visibility\n",
    "plt.tick_params(axis='y', labelsize=15)\n",
    "\n",
    "\n",
    "plt.ylim(0, 0.02)\n",
    "\n",
    "plt.axhline(y=0.0025, color='grey', linestyle='--', linewidth=2)  # Mark significance level\n",
    "\n",
    "plt.tight_layout()\n",
    "#plt.savefig('anova_results_numeric.svg')\n",
    "\n",
    "plt.show()\n",
    "\n"
   ]
  },
  {
   "cell_type": "markdown",
   "metadata": {},
   "source": [
    "## Chi-sq categorical variables:"
   ]
  },
  {
   "cell_type": "code",
   "execution_count": null,
   "metadata": {},
   "outputs": [],
   "source": [
    "for_chi = var_categorical + var_binary"
   ]
  },
  {
   "cell_type": "code",
   "execution_count": null,
   "metadata": {},
   "outputs": [],
   "source": [
    "chi_sq_results = {}\n",
    "p_vals_chi = []\n",
    "\n",
    "for var in for_chi:\n",
    "    cont_table = pd.crosstab(test[var], test['community'])\n",
    "    chi_sq, p_val, dof, ex_freq, = chi2_contingency(cont_table)\n",
    "    p_vals_chi.append(p_val)\n",
    "    print(f'variable: {var}, Chi-sq: {chi_sq}, p-value: {p_val}')\n",
    "\n",
    "\n",
    "plt.figure(figsize=(10,10))\n",
    "\n",
    "sns.barplot(x=for_chi, y=p_vals_chi, color='cadetblue')\n",
    "\n",
    "plt.ylabel('P-value', fontsize=18)\n",
    "plt.xlabel('Variables', fontsize=18)\n",
    "plt.title('Chi-squared results for categorical/binary variables', fontsize=20)\n",
    "\n",
    "plt.tick_params(axis='x', rotation=45, labelsize=15) # Rotate x-axis labels for better visibility\n",
    "plt.tick_params(axis='y', labelsize=15)\n",
    "\n",
    "plt.ylim(0, 0.02)\n",
    "plt.axhline(y=0.0025, color='grey', linestyle='--', linewidth=2)  # Mark significance level\n",
    "\n",
    "plt.tight_layout()\n",
    "plt.savefig('chi2_results_cat_bin.svg')\n",
    "\n",
    "plt.show()\n"
   ]
  },
  {
   "cell_type": "code",
   "execution_count": null,
   "metadata": {},
   "outputs": [],
   "source": [
    "sign_level = round(0.05/(7*3), 5)\n",
    "sign_level"
   ]
  },
  {
   "cell_type": "markdown",
   "metadata": {},
   "source": [
    "## plotting significant variables:"
   ]
  },
  {
   "cell_type": "code",
   "execution_count": null,
   "metadata": {},
   "outputs": [],
   "source": [
    "sign_var = [\n",
    "'risk',\n",
    "'cdr_gs',\n",
    "'age',\n",
    "'PALFAMS28',\n",
    "'education',\n",
    "'physact_freq',\n",
    "'ptau217',\n",
    "'community'\n",
    "]"
   ]
  },
  {
   "cell_type": "code",
   "execution_count": null,
   "metadata": {},
   "outputs": [],
   "source": [
    "cantab_df"
   ]
  },
  {
   "cell_type": "code",
   "execution_count": null,
   "metadata": {},
   "outputs": [],
   "source": [
    "communities = test['community'].unique()\n",
    "\n",
    "palette = sns.color_palette(\"muted\", len(communities))\n",
    "color_map = {community: color for community, color in zip(communities, palette)}\n"
   ]
  },
  {
   "cell_type": "markdown",
   "metadata": {},
   "source": [
    "### Each variable plot:"
   ]
  },
  {
   "cell_type": "markdown",
   "metadata": {},
   "source": [
    "#### numeric variables:\n",
    "- box plot\n",
    "- t-tests "
   ]
  },
  {
   "cell_type": "code",
   "execution_count": null,
   "metadata": {},
   "outputs": [],
   "source": [
    "from matplotlib.collections import PathCollection\n"
   ]
  },
  {
   "cell_type": "code",
   "execution_count": null,
   "metadata": {},
   "outputs": [],
   "source": [
    "def plot_var_comm_box(communities, test_var):\n",
    "\n",
    "    community_order = sorted(communities)\n",
    "\n",
    "    plt.figure(figsize=(8, 6))\n",
    "    edgecol='black'\n",
    "    edgewidth= 2\n",
    "    \n",
    "\n",
    "    ax=sns.boxplot(data=test, x='community', y=test_var, palette='muted', order=community_order, showfliers=False, \n",
    "                boxprops={'linewidth': edgewidth, 'edgecolor': edgecol, 'alpha': 0.5, 'facecolor': 'none'},\n",
    "                whiskerprops={'linewidth': edgewidth, 'color': edgecol,  'alpha': 0.5},\n",
    "                capprops={'linewidth': edgewidth, 'color': edgecol, 'alpha': 0.5},\n",
    "                medianprops={'linewidth': edgewidth, 'color': edgecol, 'alpha': 0.5},\n",
    "                meanprops={'linewidth': edgewidth, 'color': edgecol})\n",
    "\n",
    "   \n",
    "    sns.stripplot(data=test, x='community', y=test_var, palette='muted', order=community_order, jitter=True, ax=ax, size= 10, edgecolor=palette, alpha= 0.3) \n",
    "\n",
    "    plt.xlabel('Community', fontsize=15)\n",
    "    plt.xticks(fontsize=20)\n",
    "    plt.ylabel(test_var, fontsize=15)\n",
    "    plt.yticks(fontsize=13)\n",
    "    plt.title(f'Community distribution over variable: {test_var}', fontsize=20)\n",
    "\n",
    "    plt.savefig(f'sign_boxplot_{test_var}.svg')\n",
    "\n",
    "    plt.tight_layout()\n",
    "    plt.show()\n"
   ]
  },
  {
   "cell_type": "code",
   "execution_count": null,
   "metadata": {},
   "outputs": [],
   "source": [
    "sign_var_num =[\n",
    " #'risk',\n",
    " #'cdr_gs',\n",
    " 'age',\n",
    " 'PALFAMS28',\n",
    " #'education',\n",
    " #'physact_freq',\n",
    " 'ptau217',\n",
    " #'community'\n",
    " ]\n",
    " "
   ]
  },
  {
   "cell_type": "code",
   "execution_count": null,
   "metadata": {},
   "outputs": [],
   "source": [
    "from scipy.stats import ttest_ind\n",
    "\n",
    "def t_test_pair(df, var, comm1, comm2):\n",
    "\n",
    "    filtered_1 = df[df['community'] == comm1]\n",
    "    filtered_2 = df[df['community'] == comm2]\n",
    "\n",
    "    values_1 = filtered_1[var]\n",
    "    values_2 = filtered_2[var]\n",
    "\n",
    "    t_stat, p_val = ttest_ind(values_1, values_2)\n",
    "\n",
    "    print(f'{comm1} and {comm2}, variable: {var}, t-stat: {t_stat}, p-value: {p_val}')\n"
   ]
  },
  {
   "cell_type": "code",
   "execution_count": null,
   "metadata": {},
   "outputs": [],
   "source": [
    "for var in sign_var_num:\n",
    "    plot_var_comm_box(communities, var)\n",
    "    t_test_pair(test, var, 'A', 'B')\n",
    "    t_test_pair(test, var, 'B', 'C')\n",
    "    t_test_pair(test, var, 'A', 'C')\n",
    "   "
   ]
  },
  {
   "cell_type": "code",
   "execution_count": null,
   "metadata": {},
   "outputs": [],
   "source": [
    "sns.displot(data=test, x='ptau217', hue='community', kind='kde', fill=True)\n",
    "\n",
    "plt.xlabel('pg/mL', fontsize=13)\n",
    "plt.xticks(fontsize=13)\n",
    "plt.ylabel('Probability density', fontsize=13)\n",
    "plt.yticks(fontsize=13)\n",
    "plt.title('P-tau concentration distribution accross communities', fontsize=15)\n",
    "plt.savefig('kde_ptau_communities.svg')"
   ]
  },
  {
   "cell_type": "code",
   "execution_count": null,
   "metadata": {},
   "outputs": [],
   "source": [
    "sns.displot(data=test, x='age', hue='community', kind='kde', fill=True)\n",
    "\n",
    "plt.xlabel('age', fontsize=13)\n",
    "plt.xticks(fontsize=13)\n",
    "plt.ylabel('Probability density', fontsize=13)\n",
    "plt.yticks(fontsize=13)\n",
    "plt.title('Age distribution accross communities', fontsize=15)\n",
    "plt.savefig('kde_age_communities.svg')"
   ]
  },
  {
   "cell_type": "code",
   "execution_count": null,
   "metadata": {},
   "outputs": [],
   "source": [
    "sns.displot(data=test, x='PALFAMS28', hue='community', kind='kde', fill=True)\n",
    "\n",
    "plt.xlabel('PALFAMS28', fontsize=13)\n",
    "plt.xticks(fontsize=13)\n",
    "plt.ylabel('Probability density', fontsize=13)\n",
    "plt.yticks(fontsize=13)\n",
    "plt.title('PALFAMS28 distribution accross communities', fontsize=15)\n",
    "plt.savefig('kde_PALFAMS28_communities.svg')"
   ]
  },
  {
   "cell_type": "markdown",
   "metadata": {},
   "source": [
    "#### Categorical and binary variables:\n",
    " - Bar plotS"
   ]
  },
  {
   "cell_type": "markdown",
   "metadata": {},
   "source": [
    " - Binary: proportion test"
   ]
  },
  {
   "cell_type": "code",
   "execution_count": null,
   "metadata": {},
   "outputs": [],
   "source": [
    "fig, (ax1,ax2) = plt.subplots(1,2, figsize=(13,7))\n",
    "\n",
    "\n",
    "sns.countplot(data=test, x='community', hue='cdr_gs', dodge=True, palette= palette_cdr, ax=ax1, order =['A','B','C'])\n",
    "sns.countplot(data=test, x='community', hue='risk', dodge=True, palette= palette_apoe, ax=ax2, order =['A','B','C'])\n",
    "\n",
    "ax1.set_xlabel('Community', fontsize=14)\n",
    "ax1.set_ylabel('Count', fontsize=14)\n",
    "ax2.set_xlabel('Community', fontsize=14)\n",
    "ax2.set_ylabel('Count', fontsize=14)\n",
    "\n",
    "ax1.tick_params(axis='both', which='major', labelsize=12)\n",
    "ax2.tick_params(axis='both', which='major', labelsize=12)\n",
    "\n",
    "plt.suptitle('Distribution of CDR and APOE-risk across communities', fontsize=20)\n",
    "\n",
    "plt.savefig('community_dist_cdr_apoe.svg')"
   ]
  },
  {
   "cell_type": "code",
   "execution_count": null,
   "metadata": {},
   "outputs": [],
   "source": [
    "sign_var_bin = ['risk', 'cdr_gs']"
   ]
  },
  {
   "cell_type": "code",
   "execution_count": null,
   "metadata": {},
   "outputs": [],
   "source": [
    "from statsmodels.stats.proportion import proportions_ztest\n",
    "\n",
    "def Z_prop_pair(df, var, comm1, comm2):\n",
    "\n",
    "    filtered_df = df[df['community'].isin([comm1, comm2])]\n",
    "\n",
    "    sample1 = filtered_df[filtered_df['community'] == comm1][var]\n",
    "    sample2 = filtered_df[filtered_df['community'] == comm2][var]\n",
    "\n",
    "    count1 = sample1.sum()\n",
    "    count2 = sample2.sum()\n",
    "\n",
    "    nobs1 = len(sample1)\n",
    "    nobs2 = len(sample2)\n",
    "\n",
    "    z_stat, p_val = proportions_ztest([count1, count2], [nobs1, nobs2])\n",
    "\n",
    "    print(f\"variable: {var}, {comm1}, {comm2}, Z-score: {z_stat}, P-value: {p_val}\")\n"
   ]
  },
  {
   "cell_type": "code",
   "execution_count": null,
   "metadata": {},
   "outputs": [],
   "source": [
    "Z_prop_pair(test, 'risk', 'A', 'B')\n",
    "Z_prop_pair(test, 'risk', 'B', 'C')\n",
    "Z_prop_pair(test, 'risk', 'A', 'C')"
   ]
  },
  {
   "cell_type": "code",
   "execution_count": null,
   "metadata": {},
   "outputs": [],
   "source": [
    "Z_prop_pair(test, 'cdr_gs', 'A', 'B')\n",
    "Z_prop_pair(test, 'cdr_gs', 'B', 'C')\n",
    "Z_prop_pair(test, 'cdr_gs', 'A', 'C')"
   ]
  },
  {
   "cell_type": "markdown",
   "metadata": {},
   "source": [
    " - Categorical: Chi-squared test  "
   ]
  },
  {
   "cell_type": "code",
   "execution_count": null,
   "metadata": {},
   "outputs": [],
   "source": [
    "[#'risk',\n",
    " #'cdr_gs',\n",
    " #'age',\n",
    " #'PALFAMS28',\n",
    " 'education',\n",
    " 'physact_freq',\n",
    " #'ptau217',\n",
    " #'community'\n",
    " ]"
   ]
  },
  {
   "cell_type": "code",
   "execution_count": null,
   "metadata": {},
   "outputs": [],
   "source": [
    "cat_palette1= sns.light_palette((0.2823529411764706, 0.47058823529411764, 0.8156862745098039), n_colors=7)\n",
    "cat_palette1"
   ]
  },
  {
   "cell_type": "code",
   "execution_count": null,
   "metadata": {},
   "outputs": [],
   "source": [
    "cat_palette2= sns.light_palette((0.9333333333333333, 0.5215686274509804, 0.2901960784313726), n_colors=7)\n",
    "cat_palette2"
   ]
  },
  {
   "cell_type": "code",
   "execution_count": null,
   "metadata": {},
   "outputs": [],
   "source": [
    "education_levels = {\n",
    "    1: 'Left formal education before the age of 16',\n",
    "    2: 'Left at age 16',\n",
    "    3: 'Left at age 17-18',\n",
    "    4: 'Undergraduate degree or equivalent',\n",
    "    5: \"Master's degree og equivalent\",\n",
    "    6: 'PhD or equivalent'\n",
    "}"
   ]
  },
  {
   "cell_type": "code",
   "execution_count": null,
   "metadata": {},
   "outputs": [],
   "source": [
    "plt.figure(figsize=(10,10))\n",
    "ax = sns.countplot(data=test, x='community', hue='education', dodge=True, palette=cat_palette1[1:], order=['A','B','C'])\n",
    "\n",
    "handles, labels = ax.get_legend_handles_labels()\n",
    "new_labels = [education_levels[int(label)] for label in labels if label.isdigit()]\n",
    "ax.legend(handles, new_labels, title='Education Level', fontsize=14)\n",
    "plt.xlabel('Community', fontsize=14)\n",
    "plt.ylabel('Count', fontsize=14)\n",
    "\n",
    "plt.xticks(fontsize=14)\n",
    "plt.yticks(fontsize=14)\n",
    "\n",
    "plt.title('Education distribution across communities', fontsize=18)\n",
    "plt.tight_layout()\n",
    "plt.savefig('community_dist_education.svg')\n",
    "\n",
    "chi2_pair(test, 'education', 'A', 'B')\n",
    "chi2_pair(test, 'education', 'B', 'C')\n",
    "chi2_pair(test, 'education', 'A', 'C')\n"
   ]
  },
  {
   "cell_type": "code",
   "execution_count": null,
   "metadata": {},
   "outputs": [],
   "source": [
    "A_df = test[test['community']=='A']\n",
    "B_df = test[test['community']=='B']\n",
    "C_df = test[test['community']=='C']"
   ]
  },
  {
   "cell_type": "code",
   "execution_count": null,
   "metadata": {},
   "outputs": [],
   "source": [
    "print(np.median(A_df[variable]))\n",
    "print(np.median(B_df[variable]))\n",
    "print(np.median(C_df[variable]))"
   ]
  },
  {
   "cell_type": "code",
   "execution_count": null,
   "metadata": {},
   "outputs": [],
   "source": [
    "physact_levels = {\n",
    "    1: 'Daily',\n",
    "    2: '2-3 times a week',\n",
    "    3: 'Weekly',\n",
    "    4: 'Occasionally',\n",
    "    5: \"Never\",\n",
    "}"
   ]
  },
  {
   "cell_type": "code",
   "execution_count": null,
   "metadata": {},
   "outputs": [],
   "source": [
    "plt.figure(figsize=(10,10))\n",
    "axx = sns.countplot(data=test, x='community', hue='physact_freq', dodge=True, palette=cat_palette2[1:], order=['A','B','C'])\n",
    "\n",
    "handles, labels = axx.get_legend_handles_labels()\n",
    "new_labels = [physact_levels[int(label)] for label in labels if label.isdigit()]\n",
    "print(new_labels)\n",
    "axx.legend(handles, new_labels, title='Physical activity level', fontsize=14)\n",
    "\n",
    "plt.xlabel('Community', fontsize=14)\n",
    "plt.ylabel('Count', fontsize=14)\n",
    "\n",
    "plt.xticks(fontsize=14)\n",
    "plt.yticks(fontsize=14)\n",
    "\n",
    "plt.title('Physical activity distribution across communities', fontsize=18)\n",
    "plt.tight_layout()\n",
    "plt.savefig('community_dist_physact.svg')\n",
    "plt.show()\n",
    "\n",
    "chi2_pair(test, 'physact_freq', 'A', 'B')\n",
    "chi2_pair(test, 'physact_freq', 'B', 'C')\n",
    "chi2_pair(test, 'physact_freq', 'A', 'C')"
   ]
  },
  {
   "cell_type": "code",
   "execution_count": null,
   "metadata": {},
   "outputs": [],
   "source": [
    "def chi2_pair(df, var, comm1, comm2):\n",
    "\n",
    "    filtered_df = df[df['community'].isin([comm1, comm2])]\n",
    "    cont_table = pd.crosstab(filtered_df[var], filtered_df['community'])\n",
    "    chi_sq, p_val, x, y = chi2_contingency(cont_table)\n",
    "\n",
    "    print(f'{comm1} and {comm2}, variable: {var}, Chi-sq: {chi_sq}, p-value: {p_val}')\n",
    "\n"
   ]
  },
  {
   "cell_type": "code",
   "execution_count": null,
   "metadata": {},
   "outputs": [],
   "source": []
  },
  {
   "cell_type": "code",
   "execution_count": null,
   "metadata": {},
   "outputs": [],
   "source": []
  },
  {
   "cell_type": "markdown",
   "metadata": {},
   "source": [
    "# CHECK groups against MoCA:\n",
    "ANOVA"
   ]
  },
  {
   "cell_type": "code",
   "execution_count": null,
   "metadata": {},
   "outputs": [],
   "source": [
    "test = test[test['cog_scale_score'] <= 30]\n",
    "test = test[test['cog_scale_score'] >= 5]\n",
    "test.reset_index(drop=True)"
   ]
  },
  {
   "cell_type": "code",
   "execution_count": null,
   "metadata": {},
   "outputs": [],
   "source": [
    "plot_var_comm_box(communities, 'cog_scale_score')"
   ]
  },
  {
   "cell_type": "code",
   "execution_count": null,
   "metadata": {},
   "outputs": [],
   "source": [
    "for_anova_moca = sign_var+['cog_scale_score']"
   ]
  },
  {
   "cell_type": "code",
   "execution_count": null,
   "metadata": {},
   "outputs": [],
   "source": [
    "ax = sns.pairplot(test[for_anova_moca], hue='community', palette='muted')\n",
    "plt.savefig('pairplot_allsign_moca.png')\n",
    "plt.show()\n"
   ]
  },
  {
   "cell_type": "code",
   "execution_count": null,
   "metadata": {},
   "outputs": [],
   "source": [
    "F_stat_moca, p_val_moca = f_oneway(*[group for comm, group in test.groupby('community')['cog_scale_score']])\n",
    "    \n",
    "print(f'  F-statistic: {F_stat_moca},     p-val: {p_val_moca}')"
   ]
  },
  {
   "cell_type": "code",
   "execution_count": null,
   "metadata": {},
   "outputs": [],
   "source": [
    "t_test_pair(test, 'cog_scale_score', 'A', 'B')\n",
    "t_test_pair(test, 'cog_scale_score', 'B', 'C')\n",
    "t_test_pair(test, 'cog_scale_score', 'A', 'C')\n"
   ]
  },
  {
   "cell_type": "code",
   "execution_count": null,
   "metadata": {},
   "outputs": [],
   "source": [
    "0.05/3"
   ]
  },
  {
   "cell_type": "code",
   "execution_count": null,
   "metadata": {},
   "outputs": [],
   "source": [
    "medians = data.groupby('species')['sepal_length'].median()\n",
    "# Mark the median of each group\n",
    "for species, median in medians.items():\n",
    "    plt.axvline(median, color='r', linestyle='--', label=f'Median ({species}): {median:.2f}')\n",
    "\n",
    "plt.legend()"
   ]
  },
  {
   "cell_type": "code",
   "execution_count": null,
   "metadata": {},
   "outputs": [],
   "source": [
    "\n"
   ]
  },
  {
   "cell_type": "code",
   "execution_count": null,
   "metadata": {},
   "outputs": [],
   "source": []
  },
  {
   "cell_type": "code",
   "execution_count": null,
   "metadata": {},
   "outputs": [],
   "source": [
    "sns.set_context(\"notebook\", rc={\"figure.figsize\": (20, 6)})\n",
    "\n",
    "sns.displot(data = test, x='cog_scale_score', hue='community', kind='kde', fill=True)\n",
    "comm_medians= test.groupby('community')['cog_scale_score'].median()\n",
    "\n",
    "for comm, median in comm_medians.items():\n",
    "    plt.axvline(median, color=color_map[comm], linestyle='-', linewidth=3, label=f'{comm}: {median:.2f}')\n",
    "\n",
    "plt.title('MoCA score distribution across communities')\n",
    "plt.xlabel('MoCA score')\n",
    "plt.legend()\n",
    "plt.savefig('MoCA_distribution_communities.png')\n",
    "plt.show()"
   ]
  }
 ],
 "metadata": {
  "kernelspec": {
   "display_name": "base",
   "language": "python",
   "name": "python3"
  },
  "language_info": {
   "codemirror_mode": {
    "name": "ipython",
    "version": 3
   },
   "file_extension": ".py",
   "mimetype": "text/x-python",
   "name": "python",
   "nbconvert_exporter": "python",
   "pygments_lexer": "ipython3",
   "version": "3.8.5"
  },
  "orig_nbformat": 4
 },
 "nbformat": 4,
 "nbformat_minor": 2
}
