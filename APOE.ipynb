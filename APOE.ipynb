{
 "cells": [
  {
   "cell_type": "code",
   "execution_count": null,
   "metadata": {},
   "outputs": [],
   "source": []
  },
  {
   "cell_type": "code",
   "execution_count": null,
   "metadata": {},
   "outputs": [],
   "source": [
    "import pandas as pd \n",
    "import numpy as np \n",
    "import networkx as nx \n",
    "import matplotlib.pyplot as plt\n",
    "%matplotlib inline\n",
    "import seaborn as sns\n",
    "import altair as alt\n",
    "import nx_altair as nxa\n",
    "#import snf\n",
    "sns.set_style(\"darkgrid\")\n"
   ]
  },
  {
   "cell_type": "markdown",
   "metadata": {},
   "source": [
    "#### Functions:"
   ]
  },
  {
   "cell_type": "code",
   "execution_count": null,
   "metadata": {},
   "outputs": [],
   "source": [
    "def read_apoe_file(file, site):\n",
    "\n",
    "    sites = [1,2,3,4]\n",
    "\n",
    "    df = pd.read_csv(file)\n",
    "\n",
    "    if site in sites:\n",
    "        df = df.loc[df['Participant'][0] == site] # filtering on site if relevant\n",
    "    \n",
    "    participants = list(df['Participant'])\n",
    "\n",
    "    return df, participants"
   ]
  },
  {
   "cell_type": "code",
   "execution_count": null,
   "metadata": {},
   "outputs": [],
   "source": [
    "def sort_df_IDs(df, ID_list):\n",
    "\n",
    "\n",
    "    sorted_df = df[df['Participant'].isin(ID_list)].sort_values(by=['Participant'], key=lambda x: x.map({v: i for i, v in enumerate(ID_list)}))\n",
    "    sorted_df = sorted_df.reset_index(drop=True)\n",
    "    return sorted_df\n"
   ]
  },
  {
   "cell_type": "code",
   "execution_count": null,
   "metadata": {},
   "outputs": [],
   "source": [
    "def preprocess_apoe_df(df, ID_list):\n",
    "    \n",
    "    df_reduced = sort_df_IDs(df.copy(), ID_list) # sort the df on ID-list, removing IDs to exclude in further analyses\n",
    "    \n",
    "    df_sets = df_reduced.copy()\n",
    "    node_list = []\n",
    "    \n",
    "    for row in df_reduced.index:\n",
    "        gtype = df_reduced['APOE allele combination'][row]\n",
    "        node_list.append(gtype)\n",
    "        g_set = set([gtype[:2], gtype[2:4]])\n",
    "        df_sets['APOE allele combination'][row] = g_set\n",
    "    \n",
    "    return df_sets, node_list"
   ]
  },
  {
   "cell_type": "code",
   "execution_count": null,
   "metadata": {},
   "outputs": [],
   "source": [
    "def makeAdjMatrix_apoe(df, sim_metric, save_adjM): \n",
    "    '''\n",
    "    Creates adjacency matrix from a dataframe and a specified measure\n",
    "    returns the adjacency matrix\n",
    "    '''\n",
    "    n = df.shape[0] # number of rows in df\n",
    "    #print(n)\n",
    "    adjM = np.eye(n) # create empty matrix of n x n\n",
    "    \n",
    "\n",
    "    if sim_metric == 'Jacc': #for the apoe df the genotypes must be converted to sets of alleles\n",
    "        for i in range(n):\n",
    "            first = df.iloc[i]\n",
    "            for j in range(i+1, n):\n",
    "                second = df.iloc[j] #select whole row for second participant\n",
    "\n",
    "                similarity = jaccard_sim(first, second)\n",
    "                adjM[i,j] = round(similarity,3) # setting similarity value to 3 decimals \n",
    "    if save_adjM:\n",
    "        np.savetxt(f'adjM_APOE_{sim_metric}.csv', X=adjM, delimiter=',')\n",
    "\n",
    "    return adjM\n",
    "    "
   ]
  },
  {
   "cell_type": "code",
   "execution_count": null,
   "metadata": {},
   "outputs": [],
   "source": [
    "def create_PSN_apoe(adj, nodelist, phi, s, title, savefig): \n",
    "    '''\n",
    "    Takes in adjacency matrix adj, cutoff phi and seed s  +++\n",
    "    Creates and draws network graph with spring layout \n",
    "    \n",
    "    returns network and similarity list\n",
    "    '''\n",
    "    \n",
    "    \n",
    "    G = nx.from_numpy_array(adj)\n",
    "    PSN = nx.Graph()\n",
    "    #node_name_mapping = {i: node_name for i, node_name in enumerate(node_list)}\n",
    "    PSN.add_nodes_from(G)\n",
    "\n",
    "    \n",
    "    #PSN = nx.relabel_nodes(PSN, node_name_mapping)      \n",
    "\n",
    "    #communities = nx.community.greedy_modularity_communities(G)\n",
    "    #print(len(communities))\n",
    "    \n",
    "    similarities = []\n",
    "    n = len(G.nodes)\n",
    "    print(n)\n",
    "\n",
    "    for i in range(n):\n",
    "        for j in range(i+1,n):\n",
    "            sim = adj[i,j]\n",
    "            similarities.append(sim)\n",
    "            if sim > phi:\n",
    "                PSN.add_edge(i, j, weight = sim)\n",
    "                #nx.draw_networkx_edges()\n",
    "\n",
    "\n",
    "    plt.figure(figsize=(20,15))\n",
    "    plt.title(title + ', phi= ' + str(phi))\n",
    "\n",
    "    pos = nx.spring_layout(PSN, seed = s, iterations=120)\n",
    "\n",
    "    #edge_alphas = {0: 0, 0.333: 0.333, 0.5: 0.5, 1: 1} #opacity of the edge weights\n",
    "    #nx.draw_networkx_edges(PSN, pos=pos, width=2,\n",
    "                       #alpha=[(edge_alphas[G[u][v]['weight']]/100) for u, v in PSN.edges])\n",
    "    \n",
    "    #for u, v, wt in PSN.edges(data=True):\n",
    "        #nx.draw_networkx_edges(PSN, pos=pos, edgelist=[(u, v)], width=wt['weight'], alpha= 1/200) #alpha=(wt['weight'])/100\n",
    "    node_cols= {'E2E2':'#177245', 'E2E3':'#6aa84f', 'E3E3':'#0b5394', 'E2E4':'#f2a85a', 'E4E4':'#cc0000', 'E3E4':'#800080'}\n",
    "    #node_cols=['green', 'limegreen', 'blue', 'pink', 'red', 'orange']\n",
    "\n",
    "    nx.draw_networkx_edges(PSN, pos=pos, width=1, alpha=1/70)\n",
    "\n",
    "    # Relabel nodes with node labels\n",
    "    node_mapping = {i: gtype for i, gtype in enumerate(nodelist)}\n",
    "    nx.set_node_attributes(PSN, node_mapping, name='gtype')\n",
    "\n",
    "\n",
    "    for node in PSN.nodes():\n",
    "        #print(node)\n",
    "        gtype = PSN.nodes[node]['gtype']\n",
    "        nx.draw_networkx_nodes(PSN, pos=pos, nodelist=[node], node_size=130, node_color=node_cols[gtype])\n",
    "    \n",
    "    plt.axis('off')  # Turn off axis\n",
    "    if savefig:\n",
    "        plt.savefig('psn_apoe.png')\n",
    "    plt.show()\n",
    "\n",
    "    return PSN, similarities\n",
    "\n"
   ]
  },
  {
   "cell_type": "code",
   "execution_count": null,
   "metadata": {},
   "outputs": [],
   "source": [
    "def plot_similarities_apoe(sim, title):\n",
    "\n",
    "    plt.figure(figsize=(15,10))\n",
    "    plt.title(title)\n",
    "    plt.xlabel('Similarities')\n",
    "    sns.histplot(sim, bins=4)\n",
    "\n",
    "    plt.show()\n",
    "    #print('average: ' + str(np.average(sim)))\n",
    "    #print('median: ' + str(np.median(sim)))"
   ]
  },
  {
   "cell_type": "code",
   "execution_count": null,
   "metadata": {},
   "outputs": [],
   "source": [
    "matched_IDs = [] #participant IDs"
   ]
  },
  {
   "cell_type": "code",
   "execution_count": null,
   "metadata": {},
   "outputs": [],
   "source": [
    "len(matched_IDs)"
   ]
  },
  {
   "cell_type": "code",
   "execution_count": null,
   "metadata": {},
   "outputs": [],
   "source": [
    "def jaccard_sim(set_a,set_b):   #take in sets of genotypes from two participants\n",
    "    \n",
    "    intersect = len(set_a.intersection(set_b))\n",
    "    union = len(set_a.union(set_b))\n",
    "    #print(union)\n",
    "\n",
    "    return (intersect/union) if (union != 0) else 0    # Avoid division by zero"
   ]
  },
  {
   "cell_type": "code",
   "execution_count": null,
   "metadata": {},
   "outputs": [],
   "source": [
    "a = set(['E4', \"E3\"])\n",
    "b = set(['E3', \"E2\"])\n",
    "jacc = jaccard_sim(a,b)\n",
    "jacc"
   ]
  },
  {
   "cell_type": "markdown",
   "metadata": {},
   "source": [
    "#### pre-processing:"
   ]
  },
  {
   "cell_type": "code",
   "execution_count": null,
   "metadata": {},
   "outputs": [],
   "source": [
    "apoe_df, apoe_ids = read_apoe_file('Genotype_formatted_results.csv', 'all')\n",
    "apoe_df, node_list = preprocess_apoe_df(apoe_df, matched_IDs)\n",
    "\n",
    "apoe_df\n",
    "    "
   ]
  },
  {
   "cell_type": "markdown",
   "metadata": {},
   "source": [
    "#### PSN implementation:"
   ]
  },
  {
   "cell_type": "code",
   "execution_count": null,
   "metadata": {},
   "outputs": [],
   "source": [
    "AdjM_Apoe = makeAdjMatrix_apoe(apoe_df['APOE allele combination'], 'Jacc', True)\n",
    "AdjM_Apoe.shape"
   ]
  },
  {
   "cell_type": "code",
   "execution_count": null,
   "metadata": {},
   "outputs": [],
   "source": [
    "psn, sims = create_PSN_apoe(AdjM_Apoe, node_list, 0.1, 100, 'APOE PSN, n=342', savefig=True)"
   ]
  },
  {
   "cell_type": "code",
   "execution_count": null,
   "metadata": {},
   "outputs": [],
   "source": [
    "plot_similarities_apoe(sims, 'apoe')"
   ]
  },
  {
   "cell_type": "code",
   "execution_count": null,
   "metadata": {},
   "outputs": [],
   "source": [
    "node_cols= {'E2E2':'#177245', 'E2E3':'#6aa84f', 'E3E3':'#0b5394', 'E2E4':'#f2a85a', 'E4E4':'#cc0000', 'E3E4':'#800080'}\n",
    "palette = [node_cols[gtype] for gtype in node_list]\n",
    "#sns.histplot(node_list, color=node_cols)\n",
    "plt.figure(figsize=(8,8))\n",
    "sns.set(font_scale=1.2) \n",
    "sns.countplot(x=node_list, palette=node_cols)\n",
    "sns.set_context(\"notebook\")\n",
    "sns.set_style('white')\n",
    "plt.ylabel('Count')\n",
    "plt.title('Distribution of APOE genotypes (n=237)')\n",
    "plt.grid(False)\n",
    "# plt.gca().set_facecolor('white')\n",
    "plt.show()"
   ]
  },
  {
   "cell_type": "code",
   "execution_count": null,
   "metadata": {},
   "outputs": [],
   "source": []
  }
 ],
 "metadata": {
  "kernelspec": {
   "display_name": "Python 3",
   "language": "python",
   "name": "python3"
  },
  "language_info": {
   "codemirror_mode": {
    "name": "ipython",
    "version": 3
   },
   "file_extension": ".py",
   "mimetype": "text/x-python",
   "name": "python",
   "nbconvert_exporter": "python",
   "pygments_lexer": "ipython3",
   "version": "3.8.5"
  }
 },
 "nbformat": 4,
 "nbformat_minor": 2
}
